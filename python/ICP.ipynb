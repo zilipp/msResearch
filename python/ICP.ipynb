{
 "cells": [
  {
   "cell_type": "code",
   "execution_count": 1,
   "metadata": {},
   "outputs": [],
   "source": [
    "import open3d as o3d\n",
    "import numpy as np\n",
    "import copy\n",
    "import math"
   ]
  },
  {
   "cell_type": "code",
   "execution_count": 2,
   "metadata": {},
   "outputs": [],
   "source": [
    "# chair_mesh = o3d.io.read_triangle_mesh(\".\\\\data\\\\chair.stl\")"
   ]
  },
  {
   "cell_type": "code",
   "execution_count": 3,
   "metadata": {},
   "outputs": [],
   "source": [
    "# o3d.visualization.draw_geometries([chair_mesh])"
   ]
  },
  {
   "cell_type": "code",
   "execution_count": 4,
   "metadata": {},
   "outputs": [],
   "source": [
    "# chair_pcd = chair_mesh.sample_points_uniformly(number_of_points=5000)"
   ]
  },
  {
   "cell_type": "code",
   "execution_count": 5,
   "metadata": {},
   "outputs": [],
   "source": [
    "# o3d.visualization.draw_geometries([chair_pcd])"
   ]
  },
  {
   "cell_type": "markdown",
   "metadata": {},
   "source": [
    "## ICP"
   ]
  },
  {
   "cell_type": "markdown",
   "metadata": {},
   "source": [
    "### helper visulization"
   ]
  },
  {
   "cell_type": "code",
   "execution_count": 6,
   "metadata": {},
   "outputs": [],
   "source": [
    "# add aixs\n",
    "aix_points = [[0, 0, 0],\n",
    "              [400, 0, 0],\n",
    "              [0, 600, 0],\n",
    "              [0, 0, 800],\n",
    "              ]\n",
    "aix_lines = [[0, 1],\n",
    "             [0, 2],\n",
    "             [0, 3]]\n",
    "colors = [[0, 0, 0], [0,0,1],[0,0,0]]\n",
    "aix_line_set = o3d.geometry.LineSet(\n",
    "    points=o3d.utility.Vector3dVector(aix_points),\n",
    "    lines=o3d.utility.Vector2iVector(aix_lines),\n",
    ")\n",
    "aix_line_set.colors = o3d.utility.Vector3dVector(colors)"
   ]
  },
  {
   "cell_type": "code",
   "execution_count": 7,
   "metadata": {},
   "outputs": [],
   "source": [
    "def draw_original_compare(source, target, name):\n",
    "    source_temp = copy.deepcopy(source)\n",
    "    target_temp = copy.deepcopy(target)\n",
    "    source_temp.paint_uniform_color([0, 1, 0])\n",
    "    target_temp.paint_uniform_color([1, 0, 0])\n",
    "    o3d.visualization.draw_geometries([source_temp, target_temp, aix_line_set],name)\n",
    "\n",
    "\n",
    "def draw_registration_result(source, target, transformation,name):\n",
    "    source_temp = copy.deepcopy(source)\n",
    "    target_temp = copy.deepcopy(target)\n",
    "    source_temp.paint_uniform_color([0, 1, 0])\n",
    "    target_temp.paint_uniform_color([1, 0, 0])\n",
    "    source_temp.transform(transformation)\n",
    "    o3d.visualization.draw_geometries([source_temp, target_temp, aix_line_set], name)"
   ]
  },
  {
   "cell_type": "markdown",
   "metadata": {},
   "source": [
    "### source and target"
   ]
  },
  {
   "cell_type": "markdown",
   "metadata": {},
   "source": [
    "source"
   ]
  },
  {
   "cell_type": "code",
   "execution_count": 8,
   "metadata": {},
   "outputs": [],
   "source": [
    "source = o3d.io.read_point_cloud(\"./data/chair.ply\")\n",
    "o3d.visualization.draw_geometries([source])"
   ]
  },
  {
   "cell_type": "markdown",
   "metadata": {},
   "source": [
    "target"
   ]
  },
  {
   "cell_type": "code",
   "execution_count": 9,
   "metadata": {},
   "outputs": [
    {
     "data": {
      "text/plain": "geometry::PointCloud with 250002 points."
     },
     "execution_count": 9,
     "metadata": {},
     "output_type": "execute_result"
    }
   ],
   "source": [
    "target = o3d.io.read_point_cloud(\"./data/chair.ply\")\n",
    "# trans_true = np.asarray([[1.,   0,         0,         .5],\n",
    "#                         [0,   1.,         0,         .5],\n",
    "#                         [0,              0,    1.0000,   0.2],\n",
    "#                         [0,              0,         0,     1.0000]])\n",
    "alpha = math.pi / 10\n",
    "trans_true = np.asarray([[math.cos(alpha),       -math.sin(alpha),         0,        2],\n",
    "                         [math.sin(alpha),        math.cos(alpha),         0,        3],\n",
    "                         [0,        0,         1,        4],\n",
    "                        [ 0,        0,         0,        1]])\n",
    "target.transform(trans_true)\n",
    "# o3d.visualization.draw_geometries([target, aix_line_set])"
   ]
  },
  {
   "cell_type": "markdown",
   "metadata": {},
   "source": [
    "draw original comparison"
   ]
  },
  {
   "cell_type": "code",
   "execution_count": 10,
   "metadata": {},
   "outputs": [],
   "source": [
    "draw_original_compare(source, target, 'source: green; target : red ')"
   ]
  },
  {
   "cell_type": "code",
   "execution_count": 11,
   "metadata": {},
   "outputs": [],
   "source": [
    "# draw_registration_result(source, target, trans_true, 'idelistic result')"
   ]
  },
  {
   "cell_type": "code",
   "execution_count": 12,
   "metadata": {},
   "outputs": [],
   "source": [
    "threshold = 50\n",
    "# trans_init = np.asarray([[1,   0,         0,         0],\n",
    "#                         [0,   1,         0,         0],\n",
    "#                         [0,              0,    1.0000,         0],\n",
    "#                         [0,              0,         0,     1.0000]])\n",
    "trans_init = np.asarray([[math.cos(alpha),       -math.sin(alpha),         0,        0],\n",
    "                         [math.sin(alpha),        math.cos(alpha),         0,        3],\n",
    "                         [0,        0,         1,        4],\n",
    "                        [ 0,        0,         0,        1]])\n",
    "draw_registration_result(source, target, trans_init, 'init matrix result')"
   ]
  },
  {
   "cell_type": "markdown",
   "metadata": {},
   "source": [
    "### initial alignment"
   ]
  },
  {
   "cell_type": "code",
   "execution_count": 13,
   "metadata": {},
   "outputs": [
    {
     "name": "stdout",
     "output_type": "stream",
     "text": [
      "registration::RegistrationResult with fitness=1.000000e+00, inlier_rmse=1.729926e+00, and correspondence_set size of 250002\n",
      "Access transformation to get result.\n"
     ]
    }
   ],
   "source": [
    "evaluation = o3d.registration.evaluate_registration(source, target, threshold, trans_init)\n",
    "print(evaluation)"
   ]
  },
  {
   "cell_type": "markdown",
   "metadata": {},
   "source": [
    "###  point-to-point ICP"
   ]
  },
  {
   "cell_type": "code",
   "execution_count": 14,
   "metadata": {},
   "outputs": [
    {
     "name": "stdout",
     "output_type": "stream",
     "text": [
      "Apply point-to-point ICP\n",
      "registration::RegistrationResult with fitness=1.000000e+00, inlier_rmse=5.973004e-13, and correspondence_set size of 250002\n",
      "Access transformation to get result.\n",
      "Transformation is:\n",
      "[[ 9.51056516e-01 -3.09016994e-01 -4.88100354e-16  2.00000000e+00]\n",
      " [ 3.09016994e-01  9.51056516e-01  5.09289915e-16  3.00000000e+00]\n",
      " [-4.80120027e-16  5.35578609e-16  1.00000000e+00  4.00000000e+00]\n",
      " [ 0.00000000e+00  0.00000000e+00  0.00000000e+00  1.00000000e+00]]\n"
     ]
    }
   ],
   "source": [
    "print(\"Apply point-to-point ICP\")\n",
    "reg_p2p = o3d.registration.registration_icp(\n",
    "        source, target, threshold, trans_init,\n",
    "        o3d.registration.TransformationEstimationPointToPoint(),\n",
    "        o3d.registration.ICPConvergenceCriteria(max_iteration = 300))\n",
    "print(reg_p2p)\n",
    "print(\"Transformation is:\")\n",
    "print(reg_p2p.transformation)"
   ]
  },
  {
   "cell_type": "code",
   "execution_count": 15,
   "metadata": {},
   "outputs": [],
   "source": [
    "draw_registration_result(source, target, reg_p2p.transformation, 'p2p')"
   ]
  },
  {
   "cell_type": "markdown",
   "metadata": {},
   "source": [
    "### point-to-plane ICP"
   ]
  },
  {
   "cell_type": "code",
   "execution_count": 16,
   "metadata": {},
   "outputs": [
    {
     "name": "stdout",
     "output_type": "stream",
     "text": [
      "registration::RegistrationResult with fitness=1.000000e+00, inlier_rmse=6.317049e-14, and correspondence_set size of 250002\n",
      "Access transformation to get result.\n",
      "Transformation is:\n",
      "[[ 9.51056516e-01 -3.09016994e-01 -1.97821959e-18  2.00000000e+00]\n",
      " [ 3.09016994e-01  9.51056516e-01  7.96093640e-18  3.00000000e+00]\n",
      " [-6.21114418e-19 -8.15919278e-18  1.00000000e+00  4.00000000e+00]\n",
      " [ 0.00000000e+00  0.00000000e+00  0.00000000e+00  1.00000000e+00]]\n"
     ]
    }
   ],
   "source": [
    "source.estimate_normals(search_param=o3d.geometry.KDTreeSearchParamHybrid(radius=1, max_nn=30))\n",
    "target.estimate_normals(search_param=o3d.geometry.KDTreeSearchParamHybrid(radius=1, max_nn=30))\n",
    "\n",
    "reg_p2l = o3d.registration.registration_icp(\n",
    "        source, target, threshold, trans_init,\n",
    "        o3d.registration.TransformationEstimationPointToPlane(),\n",
    "        o3d.registration.ICPConvergenceCriteria(max_iteration = 100))\n",
    "print(reg_p2l)\n",
    "print(\"Transformation is:\")\n",
    "print(reg_p2l.transformation)\n"
   ]
  },
  {
   "cell_type": "code",
   "execution_count": 17,
   "metadata": {},
   "outputs": [],
   "source": [
    "draw_registration_result(source, target, reg_p2l.transformation,'p2l')"
   ]
  },
  {
   "cell_type": "code",
   "execution_count": 17,
   "metadata": {},
   "outputs": [],
   "source": []
  }
 ],
 "metadata": {
  "kernelspec": {
   "name": "python3",
   "language": "python",
   "display_name": "Python 3"
  },
  "language_info": {
   "codemirror_mode": {
    "name": "ipython",
    "version": 3
   },
   "file_extension": ".py",
   "mimetype": "text/x-python",
   "name": "python",
   "nbconvert_exporter": "python",
   "pygments_lexer": "ipython3",
   "version": "3.7.7"
  }
 },
 "nbformat": 4,
 "nbformat_minor": 4
}