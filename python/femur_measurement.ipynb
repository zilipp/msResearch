{
 "cells": [
  {
   "cell_type": "markdown",
   "metadata": {},
   "source": [
    "# Import Lib"
   ]
  },
  {
   "cell_type": "code",
   "execution_count": 103,
   "metadata": {},
   "outputs": [],
   "source": [
    "import sys\n",
    "import numpy as np\n",
    "import math\n",
    "import copy\n",
    "import matplotlib.pyplot as plt\n",
    "from scipy.signal import argrelextrema\n",
    "\n",
    "from sklearn.decomposition import PCA\n",
    "\n",
    "import open3d as o3d\n",
    "import alphashape\n",
    "from descartes import PolygonPatch\n",
    "from shapely.geometry import Polygon\n",
    "from shapely import affinity\n",
    "\n"
   ]
  },
  {
   "cell_type": "code",
   "execution_count": 104,
   "metadata": {},
   "outputs": [],
   "source": [
    "# switch for figure\n",
    "show_figure = True\n",
    "\n",
    "# add aixs\n",
    "aix_points = [[0, 0, 0],\n",
    "              [0, 0, 100],\n",
    "              [400, 0, 0],\n",
    "              [0, 100, 0],\n",
    "              [-400, 0, 0],]\n",
    "aix_lines = [[0, 1], # z-aix\n",
    "             [0, 2], # x-aix\n",
    "             [0, 3]] # y-aix\n",
    "\n",
    "colors = [[1,0,1], [0,0,0], [0,0,0]]\n",
    "aix_line_set = o3d.geometry.LineSet(points=o3d.utility.Vector3dVector(aix_points),\n",
    "                                    lines=o3d.utility.Vector2iVector(aix_lines))\n",
    "aix_line_set.colors = o3d.utility.Vector3dVector(colors)"
   ]
  },
  {
   "cell_type": "markdown",
   "metadata": {},
   "source": [
    "# Read scan model\n",
    "## import obj file"
   ]
  },
  {
   "cell_type": "code",
   "execution_count": 105,
   "metadata": {},
   "outputs": [
    {
     "name": "stdout",
     "output_type": "stream",
     "text": [
      "[Open3D WARNING] Read OBJ failed: Cannot open file [../data/femur_half_4.obj]\n",
      "\n",
      "geometry::TriangleMesh with 0 points and 0 triangles.\n"
     ]
    },
    {
     "ename": "RuntimeError",
     "evalue": "[Open3D ERROR] [CreateCoordinateFrame] size <= 0",
     "output_type": "error",
     "traceback": [
      "\u001B[1;31m---------------------------------------------------------------------------\u001B[0m",
      "\u001B[1;31mRuntimeError\u001B[0m                              Traceback (most recent call last)",
      "\u001B[1;32m<ipython-input-105-e348c652c49d>\u001B[0m in \u001B[0;36m<module>\u001B[1;34m\u001B[0m\n\u001B[0;32m      1\u001B[0m \u001B[0mscan_obj\u001B[0m \u001B[1;33m=\u001B[0m \u001B[0mo3d\u001B[0m\u001B[1;33m.\u001B[0m\u001B[0mio\u001B[0m\u001B[1;33m.\u001B[0m\u001B[0mread_triangle_mesh\u001B[0m\u001B[1;33m(\u001B[0m\u001B[1;34m\"../data/femur_half_4.obj\"\u001B[0m\u001B[1;33m)\u001B[0m\u001B[1;33m\u001B[0m\u001B[1;33m\u001B[0m\u001B[0m\n\u001B[0;32m      2\u001B[0m \u001B[0mprint\u001B[0m\u001B[1;33m(\u001B[0m\u001B[0mscan_obj\u001B[0m\u001B[1;33m)\u001B[0m\u001B[1;33m\u001B[0m\u001B[1;33m\u001B[0m\u001B[0m\n\u001B[1;32m----> 3\u001B[1;33m \u001B[0mo3d\u001B[0m\u001B[1;33m.\u001B[0m\u001B[0mvisualization\u001B[0m\u001B[1;33m.\u001B[0m\u001B[0mdraw_geometries\u001B[0m\u001B[1;33m(\u001B[0m\u001B[1;33m[\u001B[0m\u001B[0mscan_obj\u001B[0m\u001B[1;33m]\u001B[0m\u001B[1;33m,\u001B[0m \u001B[0mmesh_show_wireframe\u001B[0m\u001B[1;33m=\u001B[0m\u001B[1;32mTrue\u001B[0m\u001B[1;33m)\u001B[0m\u001B[1;33m\u001B[0m\u001B[1;33m\u001B[0m\u001B[0m\n\u001B[0m\u001B[0;32m      4\u001B[0m \u001B[1;33m\u001B[0m\u001B[0m\n",
      "\u001B[1;31mRuntimeError\u001B[0m: [Open3D ERROR] [CreateCoordinateFrame] size <= 0"
     ]
    }
   ],
   "source": [
    "scan_obj = o3d.io.read_triangle_mesh(\"../data/femur_half_4.obj\")\n",
    "print(scan_obj)\n",
    "o3d.visualization.draw_geometries([scan_obj], mesh_show_wireframe=True)"
   ]
  },
  {
   "cell_type": "markdown",
   "metadata": {},
   "source": [
    "## Scale unit length to 1mm (coordinate 1000x)"
   ]
  },
  {
   "cell_type": "code",
   "execution_count": null,
   "metadata": {},
   "outputs": [],
   "source": [
    "points_center = scan_obj.get_center()\n",
    "print(points_center)\n",
    "scan_obj.scale(1000.0, points_center)"
   ]
  },
  {
   "cell_type": "markdown",
   "metadata": {},
   "source": [
    "## change to point cloud"
   ]
  },
  {
   "cell_type": "code",
   "execution_count": null,
   "metadata": {},
   "outputs": [],
   "source": [
    "number_of_points = np.asarray(scan_obj.vertices).shape[0]\n",
    "scan_obj.compute_vertex_normals()\n",
    "scan_pcd = scan_obj.sample_points_uniformly(number_of_points)"
   ]
  },
  {
   "cell_type": "code",
   "execution_count": null,
   "metadata": {},
   "outputs": [],
   "source": [
    "center = scan_pcd.get_center()\n",
    "center"
   ]
  },
  {
   "cell_type": "markdown",
   "metadata": {},
   "source": [
    "# --------------------------------------"
   ]
  },
  {
   "cell_type": "markdown",
   "metadata": {},
   "source": [
    "## delete plane\n",
    "### find plane using RANSAC: plane function: ax + by + cz + d = 0"
   ]
  },
  {
   "cell_type": "code",
   "execution_count": null,
   "metadata": {},
   "outputs": [],
   "source": [
    "plane_model, inliers = scan_pcd.segment_plane(distance_threshold=2,\n",
    "                                              ransac_n=3,\n",
    "                                              num_iterations=1000)\n",
    "[a, b, c, d] = plane_model\n",
    "plane = plane_model\n",
    "print(f\"Plane equation: {a:.5f}x + {b:.5f}y + {c:.5f}z + {d:.5f} = 0\")\n",
    "\n",
    "# floor\n",
    "inlier_cloud = scan_pcd.select_by_index(inliers)\n",
    "inlier_cloud.paint_uniform_color([1.0, 0, 0])\n",
    "\n",
    "# bone \n",
    "bone_cloud = scan_pcd.select_by_index(inliers, invert=True)"
   ]
  },
  {
   "cell_type": "markdown",
   "metadata": {},
   "source": [
    "## Delete outliers"
   ]
  },
  {
   "cell_type": "code",
   "execution_count": null,
   "metadata": {},
   "outputs": [],
   "source": [
    "def display_inlier_outlier(cloud, ind):\n",
    "    inlier_cloud = cloud.select_by_index(ind)\n",
    "    outlier_cloud = cloud.select_by_index(ind, invert=True)\n",
    "\n",
    "    print(\"Showing outliers (red) and inliers (gray): \")\n",
    "    outlier_cloud.paint_uniform_color([1, 0, 0])\n",
    "    inlier_cloud.paint_uniform_color([0.8, 0.8, 0.8])\n",
    "    o3d.visualization.draw_geometries([inlier_cloud, outlier_cloud])"
   ]
  },
  {
   "cell_type": "code",
   "execution_count": null,
   "metadata": {},
   "outputs": [],
   "source": [
    "cl, ind = bone_cloud.remove_statistical_outlier(nb_neighbors=30,\n",
    "                                                std_ratio=0.5)\n",
    "# display outliers\n",
    "display_inlier_outlier(bone_cloud, ind)"
   ]
  },
  {
   "cell_type": "code",
   "execution_count": null,
   "metadata": {},
   "outputs": [],
   "source": [
    "bone_cloud = bone_cloud.select_by_index(ind)"
   ]
  },
  {
   "cell_type": "markdown",
   "metadata": {},
   "source": [
    "### project point to plane \n",
    "link:  \\\n",
    "https://math.stackexchange.com/questions/100761/how-do-i-find-the-projection-of-a-point-onto-a-plane\n"
   ]
  },
  {
   "cell_type": "code",
   "execution_count": null,
   "metadata": {},
   "outputs": [],
   "source": [
    "def point_to_plane(point, plane):\n",
    "    A = plane[0]\n",
    "    B = plane[1]\n",
    "    C = plane[2]\n",
    "    D = plane[3]\n",
    "\n",
    "    xi = point[0]\n",
    "    yi = point[1]\n",
    "    zi = point[2]\n",
    "\n",
    "    t = (A*xi + B*yi + C*zi + D) / (A**2 + B**2 + C**2)\n",
    "    x = xi - A*t\n",
    "    y = yi - B*t\n",
    "    z = zi - C*t\n",
    "    \n",
    "    res = [x, y, z]\n",
    "    return res"
   ]
  },
  {
   "cell_type": "code",
   "execution_count": null,
   "metadata": {},
   "outputs": [],
   "source": [
    "bone_points = np.array(bone_cloud.points)\n",
    "bone_points"
   ]
  },
  {
   "cell_type": "code",
   "execution_count": null,
   "metadata": {},
   "outputs": [],
   "source": [
    "proj_bone_points = []\n",
    "for i in range(bone_points.shape[0]):\n",
    "    point = bone_points[i]\n",
    "    proj_bone_points.append(point_to_plane(point, plane))\n",
    "\n",
    "bone_points = np.array(proj_bone_points)\n",
    "bone_points"
   ]
  },
  {
   "cell_type": "code",
   "execution_count": null,
   "metadata": {},
   "outputs": [],
   "source": [
    "bone_pcd = o3d.geometry.PointCloud()\n",
    "bone_pcd.points = o3d.utility.Vector3dVector(bone_points)\n",
    "\n",
    "o3d.visualization.draw_geometries([bone_pcd, aix_line_set])"
   ]
  },
  {
   "cell_type": "markdown",
   "source": [
    "### PCA\n"
   ],
   "metadata": {
    "collapsed": false,
    "pycharm": {
     "name": "#%% md\n"
    }
   }
  },
  {
   "cell_type": "code",
   "execution_count": null,
   "metadata": {},
   "outputs": [],
   "source": [
    "bone_points = bone_points - bone_points.mean(axis=0, keepdims=True)\n",
    "print(bone_points)"
   ]
  },
  {
   "cell_type": "code",
   "execution_count": null,
   "outputs": [],
   "source": [
    "pca = PCA(n_components=3)\n",
    "pca.fit(bone_points)\n",
    "pca.components_"
   ],
   "metadata": {
    "collapsed": false,
    "pycharm": {
     "name": "#%%\n"
    }
   }
  },
  {
   "cell_type": "code",
   "execution_count": null,
   "outputs": [],
   "source": [
    "x_ = pca.components_[0]\n",
    "y_ =pca.components_[1]\n",
    "z_ = np.cross(x_, y_)\n",
    "tran_matrix = np.array([x_, y_, z_])\n",
    "tran_matrix\n"
   ],
   "metadata": {
    "collapsed": false,
    "pycharm": {
     "name": "#%%\n"
    }
   }
  },
  {
   "cell_type": "code",
   "execution_count": null,
   "outputs": [],
   "source": [
    "bone_after_pca = np.dot(tran_matrix, bone_points.T).T\n",
    "bone_after_pca"
   ],
   "metadata": {
    "collapsed": false,
    "pycharm": {
     "name": "#%%\n"
    }
   }
  },
  {
   "cell_type": "code",
   "execution_count": null,
   "outputs": [],
   "source": [
    "final_pcd = o3d.geometry.PointCloud()\n",
    "final_pcd.points = o3d.utility.Vector3dVector(bone_after_pca)\n",
    "o3d.visualization.draw_geometries([final_pcd, aix_line_set])\n"
   ],
   "metadata": {
    "collapsed": false,
    "pycharm": {
     "name": "#%%\n"
    }
   }
  },
  {
   "cell_type": "markdown",
   "metadata": {},
   "source": [
    "## save file"
   ]
  },
  {
   "cell_type": "code",
   "execution_count": null,
   "metadata": {},
   "outputs": [],
   "source": [
    "o3d.io.write_point_cloud(\"./data/2d_bone.ply\", final_pcd)\n"
   ]
  },
  {
   "cell_type": "code",
   "execution_count": null,
   "outputs": [],
   "source": [
    "type(bone_after_pca)"
   ],
   "metadata": {
    "collapsed": false,
    "pycharm": {
     "name": "#%%\n"
    }
   }
  },
  {
   "cell_type": "code",
   "execution_count": null,
   "metadata": {},
   "outputs": [],
   "source": [
    "points = []\n",
    "text_file = open(\"../data/2dpoints.txt\", \"w\")\n",
    "for i in range(bone_after_pca.shape[0]):\n",
    "    point = bone_after_pca[i]\n",
    "    x = point[0]\n",
    "    y = point[1]\n",
    "    points.append([x, y])\n",
    "    content = str(x) + ',' + str(y) + '\\n'\n",
    "    text_file.write(content)\n",
    "text_file.close()\n"
   ]
  },
  {
   "cell_type": "code",
   "execution_count": null,
   "outputs": [],
   "source": [
    "points = np.array(points)\n",
    "\n"
   ],
   "metadata": {
    "collapsed": false,
    "pycharm": {
     "name": "#%%\n"
    }
   }
  },
  {
   "cell_type": "code",
   "execution_count": null,
   "outputs": [],
   "source": [
    "# todo\n",
    "alpha_shape = alphashape.alphashape(points, 0.4)\n",
    "# fig, ax = plt.subplots()\n",
    "# ax.scatter(points[:, 0], points[:,1])\n",
    "# ax.add_patch(PolygonPatch(alpha_shape, alpha=1))\n",
    "# plt.show()\n",
    "\n",
    "alpha_shape\n"
   ],
   "metadata": {
    "collapsed": false,
    "pycharm": {
     "name": "#%%\n"
    }
   }
  },
  {
   "cell_type": "code",
   "execution_count": null,
   "outputs": [],
   "source": [
    "# todo: up and down flip\n",
    "(minx, miny, maxx, maxy) = alpha_shape.exterior.bounds\n",
    "\n",
    "x_length = maxx - minx\n",
    "y_length = maxy - miny\n",
    "center_box =  Polygon([(minx/5, miny), (minx/5, maxy), (maxx/5, maxy), (maxx/5, miny)])\n",
    "center_bone = alpha_shape.intersection(center_box)\n",
    "\n",
    "if (maxy - center_bone.centroid.y) > (maxy - miny) / 2:\n",
    "    alpha_shape = affinity.scale(alpha_shape, xfact=1, yfact=-1, origin=(0,0))\n",
    "alpha_shape"
   ],
   "metadata": {
    "collapsed": false,
    "pycharm": {
     "name": "#%%\n"
    }
   }
  },
  {
   "cell_type": "code",
   "execution_count": null,
   "outputs": [],
   "source": [
    "# left and right flip\n",
    "left_box = Polygon([(minx,miny), (minx, maxy), (minx + x_length/10,maxy), (minx + x_length/10, miny)])\n",
    "left_bone = alpha_shape.intersection(left_box)\n",
    "\n",
    "right_box =  Polygon([(maxx - x_length/10, miny), (maxx - x_length/10, maxy), (maxx, maxy), (maxx, miny)])\n",
    "right_bone = alpha_shape.intersection(right_box)\n",
    "\n",
    "if left_bone.area <  right_bone.area:\n",
    "    alpha_shape = affinity.scale(alpha_shape, xfact=-1, yfact=1, origin=(0,0))\n",
    "alpha_shape"
   ],
   "metadata": {
    "collapsed": false,
    "pycharm": {
     "name": "#%%\n"
    }
   }
  },
  {
   "cell_type": "code",
   "execution_count": null,
   "outputs": [],
   "source": [
    "alpha_shape.boundary"
   ],
   "metadata": {
    "collapsed": false,
    "pycharm": {
     "name": "#%%\n"
    }
   }
  },
  {
   "cell_type": "code",
   "execution_count": null,
   "outputs": [],
   "source": [
    "type(alpha_shape.boundary)"
   ],
   "metadata": {
    "collapsed": false,
    "pycharm": {
     "name": "#%%\n"
    }
   }
  },
  {
   "cell_type": "code",
   "execution_count": null,
   "outputs": [],
   "source": [
    "alpha_shape.boundary.bounds\n"
   ],
   "metadata": {
    "collapsed": false,
    "pycharm": {
     "name": "#%%\n"
    }
   }
  },
  {
   "cell_type": "code",
   "execution_count": null,
   "outputs": [],
   "source": [
    "line = alpha_shape.exterior\n",
    "type(line)\n"
   ],
   "metadata": {
    "collapsed": false,
    "pycharm": {
     "name": "#%%\n"
    }
   }
  },
  {
   "cell_type": "markdown",
   "source": [
    "## Measurement"
   ],
   "metadata": {
    "collapsed": false
   }
  },
  {
   "cell_type": "markdown",
   "source": [
    "### FML"
   ],
   "metadata": {
    "collapsed": false,
    "pycharm": {
     "name": "#%% md\n"
    }
   }
  },
  {
   "cell_type": "code",
   "execution_count": null,
   "outputs": [],
   "source": [
    "(minx, miny, maxx, maxy) = alpha_shape.exterior.bounds\n",
    "print(minx, miny, maxx, maxy)\n",
    "fml = maxx - minx\n",
    "print('fml: ', fml)"
   ],
   "metadata": {
    "collapsed": false,
    "pycharm": {
     "name": "#%%\n"
    }
   }
  },
  {
   "cell_type": "markdown",
   "source": [
    "### FEB\n"
   ],
   "metadata": {
    "collapsed": false,
    "pycharm": {
     "name": "#%% md\n"
    }
   }
  },
  {
   "cell_type": "code",
   "execution_count": null,
   "outputs": [],
   "source": [
    "# todo\n",
    "left_box = Polygon([(minx,miny), (minx, maxy), (minx/1.5,maxy), (minx/1.5, miny)])\n",
    "left_bone = alpha_shape.intersection(left_box)\n",
    "left_bone"
   ],
   "metadata": {
    "collapsed": false,
    "pycharm": {
     "name": "#%%\n"
    }
   }
  },
  {
   "cell_type": "code",
   "execution_count": null,
   "outputs": [],
   "source": [
    "(left_bone_minx, left_bone_miny, left_bone_maxx, left_bone_maxy) = left_bone.exterior.bounds\n",
    "print(left_bone_minx, left_bone_miny, left_bone_maxx, left_bone_maxy)\n",
    "feb = left_bone_maxy - left_bone_miny\n",
    "print('feb: ', feb)"
   ],
   "metadata": {
    "collapsed": false,
    "pycharm": {
     "name": "#%%\n"
    }
   }
  },
  {
   "cell_type": "markdown",
   "source": [
    "### FBML"
   ],
   "metadata": {
    "collapsed": false,
    "pycharm": {
     "name": "#%% md\n"
    }
   }
  },
  {
   "cell_type": "code",
   "execution_count": null,
   "outputs": [],
   "source": [
    "left_bone_line = left_bone.exterior"
   ],
   "metadata": {
    "collapsed": false,
    "pycharm": {
     "name": "#%%\n"
    }
   }
  },
  {
   "cell_type": "code",
   "execution_count": null,
   "outputs": [],
   "source": [
    "left_bone.boundary"
   ],
   "metadata": {
    "collapsed": false,
    "pycharm": {
     "name": "#%%\n"
    }
   }
  },
  {
   "cell_type": "code",
   "execution_count": null,
   "outputs": [],
   "source": [
    "left_bone_points = []\n",
    "for x,y in left_bone_line.coords:\n",
    "    left_bone_points.append([x, y])\n",
    "left_bone_points = left_bone_points[:-1]\n",
    "len(left_bone_points)"
   ],
   "metadata": {
    "collapsed": false,
    "pycharm": {
     "name": "#%%\n"
    }
   }
  },
  {
   "cell_type": "code",
   "execution_count": null,
   "outputs": [],
   "source": [
    "left_bone_height = left_bone_maxy - left_bone_miny"
   ],
   "metadata": {
    "collapsed": false,
    "pycharm": {
     "name": "#%%\n"
    }
   }
  },
  {
   "cell_type": "code",
   "execution_count": null,
   "outputs": [],
   "source": [
    "max_diff_y = 0\n",
    "a_idx = 0\n",
    "for i in range(len(left_bone_points) - 1):\n",
    "    diff_cur = abs(left_bone_points[i][1] - left_bone_points[i+1][1])\n",
    "    if  diff_cur > max_diff_y:\n",
    "        max_diff_y = diff_cur\n",
    "        a_idx = i\n",
    "print(a_idx)\n",
    "print(max_diff_y)\n",
    "point_a = left_bone_points[a_idx]\n",
    "point_b = left_bone_points[a_idx + 1]\n",
    "\n",
    "print(point_a, point_b)"
   ],
   "metadata": {
    "collapsed": false,
    "pycharm": {
     "name": "#%%\n"
    }
   }
  },
  {
   "cell_type": "code",
   "execution_count": null,
   "outputs": [],
   "source": [
    "left_bone_points_ordered = left_bone_points[a_idx+1:] + left_bone_points[:a_idx+1]\n",
    "len(left_bone_points_ordered)"
   ],
   "metadata": {
    "collapsed": false,
    "pycharm": {
     "name": "#%%\n"
    }
   }
  },
  {
   "cell_type": "code",
   "execution_count": null,
   "outputs": [],
   "source": [
    "p_left = []\n",
    "p_left_idx = 0\n",
    "for i in range(len(left_bone_points_ordered)):\n",
    "    if left_bone_points_ordered[i][0] == left_bone_minx:\n",
    "        p_left = left_bone_points_ordered[i]\n",
    "        p_left_idx = i\n",
    "        break\n",
    "print(p_left, 'at: ', p_left_idx)"
   ],
   "metadata": {
    "collapsed": false,
    "pycharm": {
     "name": "#%%\n"
    }
   }
  },
  {
   "cell_type": "code",
   "execution_count": null,
   "outputs": [],
   "source": [
    "# in upper part\n",
    "if left_bone_maxy - p_left[1] < (left_bone_maxy - left_bone_miny) * 0.5:\n",
    "    left_bone_points_ordered.reverse()\n",
    "    p_left_idx = len(left_bone_points_ordered) - 1 - p_left_idx\n",
    "\n",
    "left_bone_points_ordered = left_bone_points_ordered[p_left_idx+1:]\n",
    "x_min_point_index = 0\n",
    "\n",
    "# 如果最小的点不是线段头上的前十个点，说明它是P2\n",
    "while x_min_point_index < 10:\n",
    "    # 去掉B到current_point， 剩下所有的点里面 最左侧的点找出来\n",
    "    left_bone_points_ordered = left_bone_points_ordered[x_min_point_index+1:]\n",
    "    x_min_point = min(left_bone_points_ordered, key = lambda t: t[0])\n",
    "    x_min_point_index = [i for i, j in enumerate(left_bone_points_ordered) if j == x_min_point][0]"
   ],
   "metadata": {
    "collapsed": false,
    "pycharm": {
     "name": "#%%\n"
    }
   }
  },
  {
   "cell_type": "code",
   "execution_count": null,
   "outputs": [],
   "source": [
    "p_left_second = x_min_point\n",
    "print('p_left_second: ', p_left_second)\n"
   ],
   "metadata": {
    "collapsed": false,
    "pycharm": {
     "name": "#%%\n"
    }
   }
  },
  {
   "cell_type": "code",
   "execution_count": null,
   "outputs": [],
   "source": [
    "# todo\n",
    "right_box =  Polygon([(maxx/1.5, miny), (maxx/1.5, maxy), (maxx, maxy), (maxx, miny)])\n",
    "right_bone = alpha_shape.intersection(right_box)\n",
    "right_bone"
   ],
   "metadata": {
    "collapsed": false,
    "pycharm": {
     "name": "#%%\n"
    }
   }
  },
  {
   "cell_type": "code",
   "execution_count": null,
   "outputs": [],
   "source": [
    "(right_bone_minx, right_bone_miny, right_bone_maxx, right_bone_maxy) = right_bone.exterior.bounds\n",
    "print(right_bone_minx, right_bone_miny, right_bone_maxx, right_bone_maxy)"
   ],
   "metadata": {
    "collapsed": false,
    "pycharm": {
     "name": "#%%\n"
    }
   }
  },
  {
   "cell_type": "code",
   "execution_count": null,
   "outputs": [],
   "source": [
    "right_bone_line = right_bone.exterior"
   ],
   "metadata": {
    "collapsed": false,
    "pycharm": {
     "name": "#%%\n"
    }
   }
  },
  {
   "cell_type": "code",
   "execution_count": null,
   "outputs": [],
   "source": [
    "right_bone.boundary"
   ],
   "metadata": {
    "collapsed": false,
    "pycharm": {
     "name": "#%%\n"
    }
   }
  },
  {
   "cell_type": "code",
   "execution_count": null,
   "outputs": [],
   "source": [
    "right_bone_points = []\n",
    "for x,y in right_bone_line.coords:\n",
    "    right_bone_points.append([x, y])\n",
    "right_bone_points = right_bone_points[:-1]\n",
    "len(right_bone_points)"
   ],
   "metadata": {
    "collapsed": false,
    "pycharm": {
     "name": "#%%\n"
    }
   }
  },
  {
   "cell_type": "code",
   "execution_count": null,
   "outputs": [],
   "source": [
    "max_diff_y = 0\n",
    "a_idx = 0\n",
    "for i in range(len(right_bone_points) - 1):\n",
    "    diff_cur = abs(right_bone_points[i][1] - right_bone_points[i+1][1])\n",
    "    if  diff_cur > max_diff_y:\n",
    "        max_diff_y = diff_cur\n",
    "        a_idx = i\n",
    "print(a_idx)\n",
    "print(max_diff_y)\n",
    "point_a = right_bone_points[a_idx]\n",
    "point_b = right_bone_points[a_idx + 1]\n",
    "\n",
    "print(point_a, point_b)"
   ],
   "metadata": {
    "collapsed": false,
    "pycharm": {
     "name": "#%%\n"
    }
   }
  },
  {
   "cell_type": "code",
   "execution_count": null,
   "outputs": [],
   "source": [
    "right_bone_points_ordered = right_bone_points[a_idx+1:] + right_bone_points[:a_idx+1]\n",
    "len(right_bone_points_ordered)"
   ],
   "metadata": {
    "collapsed": false,
    "pycharm": {
     "name": "#%%\n"
    }
   }
  },
  {
   "cell_type": "code",
   "execution_count": null,
   "outputs": [],
   "source": [
    "def distance_point_to_line(p1, p2, p3):\n",
    "    # point1 and point 2 formed a line, dis is point to that line\n",
    "    p1 = np.asarray(p1)\n",
    "    p2 = np.asarray(p2)\n",
    "    p3 = np.asarray(p3)\n",
    "    return np.abs(np.cross(p2-p1,p3-p1)/np.linalg.norm(p2-p1))\n",
    "\n",
    "fbml = 0\n",
    "for i in range (len(right_bone_points_ordered)):\n",
    "    fbml = max(fbml, distance_point_to_line(p_left, p_left_second, right_bone_points_ordered[i]))\n",
    "\n",
    "print('fbml: ', fbml)\n"
   ],
   "metadata": {
    "collapsed": false,
    "pycharm": {
     "name": "#%%\n"
    }
   }
  },
  {
   "cell_type": "markdown",
   "source": [
    "### FMLD"
   ],
   "metadata": {
    "collapsed": false,
    "pycharm": {
     "name": "#%% md\n"
    }
   }
  },
  {
   "cell_type": "code",
   "execution_count": null,
   "outputs": [],
   "source": [
    "# todo\n",
    "center_box =  Polygon([(minx/3, miny), (minx/3, maxy), (maxx/3, maxy), (maxx/3, miny)])\n",
    "center_bone = alpha_shape.intersection(center_box)\n",
    "center_bone"
   ],
   "metadata": {
    "collapsed": false,
    "pycharm": {
     "name": "#%%\n"
    }
   }
  },
  {
   "cell_type": "code",
   "execution_count": null,
   "outputs": [],
   "source": [
    "(center_bone_minx, center_bone_miny, center_bone_maxx, center_bone_maxy) = center_bone.exterior.bounds\n",
    "print(center_bone_minx, center_bone_miny, center_bone_maxx, center_bone_maxy)"
   ],
   "metadata": {
    "collapsed": false,
    "pycharm": {
     "name": "#%%\n"
    }
   }
  },
  {
   "cell_type": "code",
   "execution_count": null,
   "outputs": [],
   "source": [
    "center_bone_line = center_bone.exterior"
   ],
   "metadata": {
    "collapsed": false,
    "pycharm": {
     "name": "#%%\n"
    }
   }
  },
  {
   "cell_type": "code",
   "execution_count": null,
   "outputs": [],
   "source": [
    "center_bone.boundary"
   ],
   "metadata": {
    "collapsed": false,
    "pycharm": {
     "name": "#%%\n"
    }
   }
  },
  {
   "cell_type": "code",
   "execution_count": null,
   "outputs": [],
   "source": [
    "center_bone_points = []\n",
    "for x,y in center_bone_line.coords:\n",
    "    center_bone_points.append([x, y])\n",
    "center_bone_points = center_bone_points[:-1]\n",
    "len(center_bone_points)"
   ],
   "metadata": {
    "collapsed": false,
    "pycharm": {
     "name": "#%%\n"
    }
   }
  },
  {
   "cell_type": "code",
   "execution_count": null,
   "outputs": [],
   "source": [
    "center_bone_points = np.asarray(center_bone_points)"
   ],
   "metadata": {
    "collapsed": false,
    "pycharm": {
     "name": "#%%\n"
    }
   }
  },
  {
   "cell_type": "code",
   "execution_count": null,
   "outputs": [],
   "source": [
    "import numpy.polynomial.polynomial as poly\n",
    "\n",
    "center_bone_points_upper = np.asarray([x for x in center_bone_points if x[1] >= 0])\n",
    "center_bone_points_lower = np.asarray([x for x in center_bone_points if x[1] <= 0])"
   ],
   "metadata": {
    "collapsed": false,
    "pycharm": {
     "name": "#%%\n"
    }
   }
  },
  {
   "cell_type": "code",
   "execution_count": null,
   "outputs": [],
   "source": [
    "def fit_line(points_array):\n",
    "    x = points_array[:, 0]\n",
    "    y = points_array[:, 1]\n",
    "    x_new = np.linspace(x[0], x[-1], num=len(x)*10)\n",
    "\n",
    "    coefs = poly.polyfit(x, y, 2)\n",
    "    ffit = poly.polyval(x_new, coefs)\n",
    "\n",
    "    y_draw = []\n",
    "    for num in x_new:\n",
    "        y_draw.append(coefs[2] * num*num + coefs[1] * num + coefs[0])\n",
    "\n",
    "    if show_figure:\n",
    "        plt.plot(x, y, label = \"line 1\")\n",
    "        #plt.plot(x_new, ffit, label = \"line 2\")\n",
    "        plt.plot(x_new, y_draw, label=\"line 3\")\n",
    "\n",
    "        plt.legend()\n",
    "        # plt.axes().set_aspect(1)\n",
    "        plt.show()\n",
    "    return coefs\n",
    "\n",
    "# j = coefs_up[3] * (i**3) + coefs_up[2] * (i**2) + coefs_up[1] * i + coefs_up[0]\n",
    "top_line_p = fit_line(center_bone_points_upper)\n",
    "bottom_line_p = fit_line(center_bone_points_lower)\n",
    "print(top_line_p, bottom_line_p)"
   ],
   "metadata": {
    "collapsed": false,
    "pycharm": {
     "name": "#%%\n"
    }
   }
  },
  {
   "cell_type": "code",
   "execution_count": null,
   "outputs": [],
   "source": [
    "if show_figure:\n",
    "    x = np.linspace(-25, 25, num=100)\n",
    "    a = top_line_p[2] * x * x + top_line_p[1] * x + top_line_p[0]\n",
    "    b = bottom_line_p[2] * x * x + bottom_line_p[1] * x + bottom_line_p[0]\n",
    "    plt.plot(x, a, 'r') # plotting t, a separately\n",
    "    plt.plot(x, b, 'b') # plotting t, b separately\n",
    "    plt.plot([0], [0], '*') # plotting t, c separately\n",
    "    plt.show()"
   ],
   "metadata": {
    "collapsed": false,
    "pycharm": {
     "name": "#%%\n"
    }
   }
  },
  {
   "cell_type": "code",
   "execution_count": null,
   "outputs": [],
   "source": [
    "# vertical line\n",
    "fmld = poly.polyval(0, top_line_p) - poly.polyval(0, bottom_line_p)\n",
    "print(fmld)"
   ],
   "metadata": {
    "collapsed": false,
    "pycharm": {
     "name": "#%%\n"
    }
   }
  },
  {
   "cell_type": "code",
   "execution_count": null,
   "outputs": [],
   "source": [
    "def distance_2_point_to_point(p1, p2):\n",
    "    return (p1[0] - p2[0])**2 + (p1[1] - p2[1])**2\n",
    "\n",
    "min_line_segment_length = fmld **2\n",
    "for i in np.arange(-20,20,.01):\n",
    "    if i == 0:\n",
    "        continue\n",
    "    x = i\n",
    "    y = top_line_p[2] * x * x + top_line_p[1] * x + top_line_p[0]\n",
    "    k = y/x\n",
    "    [x_res1, x_res2] = np.roots([bottom_line_p[2], bottom_line_p[1] - k, bottom_line_p[0]])\n",
    "\n",
    "    y_res1 = k * x_res1\n",
    "    dis_1 = x_res1 **2 + y_res1**2\n",
    "\n",
    "    y_res2 = k * x_res2\n",
    "    dis_2 = x_res2 **2 + y_res2**2\n",
    "\n",
    "    [x1, y1] = [x_res1, y_res1] if dis_1 < dis_2 else [x_res2, y_res2]\n",
    "\n",
    "    dis_cur = distance_2_point_to_point([x, y], [x1, y1])\n",
    "    min_line_segment_length = min(dis_cur, min_line_segment_length)\n",
    "\n",
    "fmld = math.sqrt(min_line_segment_length)\n",
    "print('fmld: ', fmld)\n"
   ],
   "metadata": {
    "collapsed": false,
    "pycharm": {
     "name": "#%%\n"
    }
   }
  },
  {
   "cell_type": "markdown",
   "source": [
    "### FHD"
   ],
   "metadata": {
    "collapsed": false,
    "pycharm": {
     "name": "#%% md\n"
    }
   }
  },
  {
   "cell_type": "code",
   "execution_count": null,
   "outputs": [],
   "source": [
    "#1. 假设骨头的一圈点是个list，这个list是顺时针记录的骨头的点，起点是左上角\n",
    "# for i in right_bone_points_ordered:\n",
    "#     print(i)"
   ],
   "metadata": {
    "collapsed": false,
    "pycharm": {
     "name": "#%%"
    }
   }
  },
  {
   "cell_type": "code",
   "execution_count": null,
   "outputs": [],
   "source": [
    "#2. 找到骨头最右侧的点 max(x)\n",
    "(right_bone_minx, right_bone_miny, right_bone_maxx, right_bone_maxy) = right_bone.exterior.bounds\n",
    "print(right_bone_minx, right_bone_miny, right_bone_maxx, right_bone_maxy)\n",
    "\n",
    "right_most_idx = 0\n",
    "for i in range(len(right_bone_points_ordered)):\n",
    "    if right_bone_points_ordered[i][0] == right_bone_maxx:\n",
    "        right_most_idx = i\n",
    "        break\n",
    "right_most_idx"
   ],
   "metadata": {
    "collapsed": false,
    "pycharm": {
     "name": "#%%\n"
    }
   }
  },
  {
   "cell_type": "code",
   "execution_count": null,
   "outputs": [],
   "source": [
    "#3. 以该点向上五个点开始 找到起点 start_point\n",
    "start_idx = right_most_idx - 5"
   ],
   "metadata": {
    "collapsed": false,
    "pycharm": {
     "name": "#%%\n"
    }
   }
  },
  {
   "cell_type": "code",
   "execution_count": null,
   "outputs": [],
   "source": [
    "#4. 找出start_point代表的斜率为1的曲线tmp_line start_point_y = start_point_x+intercept\n",
    "start_x = right_bone_points_ordered[start_idx][0]\n",
    "start_y = right_bone_points_ordered[start_idx][1]\n",
    "print(start_x, start_y)\n",
    "\n",
    "# line\n",
    "intercept = start_y - start_x\n",
    "intercept"
   ],
   "metadata": {
    "collapsed": false,
    "pycharm": {
     "name": "#%%\n"
    }
   }
  },
  {
   "cell_type": "code",
   "execution_count": null,
   "outputs": [],
   "source": [
    "#5. 从start_point开始 向下遍历点 找y=x+b 和弧线的另一个交点\n",
    "# line p1: (start_x, start_y), p2:(0, intercept), p3: tmp_point2\n",
    "\n",
    "p_start = [start_x, start_y]\n",
    "p_y_inter = [0, intercept]\n",
    "\n",
    "# right: True; left : False\n",
    "side = True\n",
    "end_idx = start_idx + 3\n",
    "while end_idx < len(right_bone_points_ordered):\n",
    "    cur_x = right_bone_points_ordered[end_idx][0]\n",
    "    cur_y = right_bone_points_ordered[end_idx][1]\n",
    "\n",
    "    if cur_x + intercept > cur_y:\n",
    "        side = True\n",
    "    else:\n",
    "        side = False\n",
    "\n",
    "    if not side:\n",
    "        break\n",
    "    end_idx += 1\n",
    "\n",
    "line_right_point = [right_bone_points_ordered[end_idx - 1][0], right_bone_points_ordered[end_idx - 1][1]]\n",
    "line_left_point = [right_bone_points_ordered[end_idx][0], right_bone_points_ordered[end_idx][1]]\n",
    "print(line_left_point, line_right_point)\n",
    "\n",
    "dis_right_point = distance_point_to_line(p_start, p_y_inter, line_right_point)\n",
    "dis_left_point = distance_point_to_line(p_start, p_y_inter, line_left_point)\n",
    "\n",
    "print(dis_left_point, dis_right_point)\n",
    "\n",
    "p_start_2 = line_left_point\n",
    "p_start_2_idx = end_idx\n",
    "if dis_left_point > dis_right_point:\n",
    "    p_start_2 = line_right_point\n",
    "    p_start_2_idx = end_idx - 1\n",
    "\n",
    "print('start: ', p_start)\n",
    "print('start2: ', p_start_2)\n"
   ],
   "metadata": {
    "collapsed": false,
    "pycharm": {
     "name": "#%%\n"
    }
   }
  },
  {
   "cell_type": "code",
   "execution_count": null,
   "outputs": [],
   "source": [
    "#6. 计算出点tmp_point2到 tmp_line上的投影点tmp_point3 然后算出来 start_point到tmp_point3的距离dist\n",
    "# 把dist存入一个list\n",
    "def distance_point_to_point(p1, p2):\n",
    "    return math.sqrt((p1[0] - p2[0])**2 + (p1[1] - p2[1])**2)\n",
    "\n",
    "fhd = distance_point_to_point(p_start, p_start_2)\n",
    "count_decrease = 0\n",
    "pre_fhd = fhd\n",
    "pre_down_left = p_start_2\n",
    "pre_down_left_idx = p_start_2_idx"
   ],
   "metadata": {
    "collapsed": false,
    "pycharm": {
     "name": "#%%\n"
    }
   }
  },
  {
   "cell_type": "code",
   "execution_count": null,
   "outputs": [],
   "source": [
    "#7. start_point开始，向上遍历点 tmp_point1， 更新tmp_line   tmp_point1_y = tmp1_point_x+b\n",
    "#8. 每次遍历，找到在上次tmp_point2附近的一个新点，使得新点到直线tmp_line距离最短\n",
    "# tmp_point2更新为新的点，然后计算tmp_point2在直线tmp_line上的投影tmp_point3 到 tmp_point1的距离，存入dist list\n",
    "# 依次循环,dist应该先增大，后减小，我们要找到的就是增到极大值，开始减小时候的那个极大的距离\n",
    "\n",
    "def find_down_left(p1, from_idx, right_bone_points_ordered_array):\n",
    "    cur_intercept = p1[1] - p1[0]\n",
    "    right_side = True\n",
    "    while right_side:\n",
    "        candidate_x = right_bone_points_ordered_array[from_idx][0]\n",
    "        candidate_y = right_bone_points_ordered_array[from_idx][1]\n",
    "        if candidate_x + cur_intercept <= candidate_y:\n",
    "            right_side = False\n",
    "        from_idx += 1\n",
    "\n",
    "    left_idx = from_idx - 1\n",
    "    right_idx = left_idx - 1\n",
    "    left_dis = distance_point_to_line(p1, [0, cur_intercept], right_bone_points_ordered_array[left_idx])\n",
    "    right_dis = distance_point_to_line(p1, [0, cur_intercept], right_bone_points_ordered_array[right_idx])\n",
    "\n",
    "    res_point = right_bone_points_ordered_array[left_idx]\n",
    "    if left_dis > right_dis:\n",
    "        res_point = right_bone_points_ordered_array[right_idx]\n",
    "\n",
    "    return res_point\n",
    "\n",
    "\n",
    "iterate_idx = start_idx\n",
    "while iterate_idx > 0:\n",
    "    p_up_right = right_bone_points_ordered[iterate_idx]\n",
    "\n",
    "    p_down_left = find_down_left(p_up_right, p_start_2_idx, right_bone_points_ordered)\n",
    "    cur_fhd = distance_point_to_point(p_up_right, p_down_left)\n",
    "    fhd = max(fhd, cur_fhd)\n",
    "    if cur_fhd < fhd:\n",
    "        count_decrease += 1\n",
    "        if count_decrease >= 5:\n",
    "            break\n",
    "    else:\n",
    "        count_decrease = 0\n",
    "\n",
    "    pre_fhd = cur_fhd\n",
    "    iterate_idx -= 1\n",
    "\n",
    "print('fhd: ', fhd)\n"
   ],
   "metadata": {
    "collapsed": false,
    "pycharm": {
     "name": "#%%\n"
    }
   }
  }
 ],
 "metadata": {
  "kernelspec": {
   "name": "python3",
   "language": "python",
   "display_name": "Python 3"
  },
  "language_info": {
   "codemirror_mode": {
    "name": "ipython",
    "version": 3
   },
   "file_extension": ".py",
   "mimetype": "text/x-python",
   "name": "python",
   "nbconvert_exporter": "python",
   "pygments_lexer": "ipython3",
   "version": "3.7.7"
  }
 },
 "nbformat": 4,
 "nbformat_minor": 4
}