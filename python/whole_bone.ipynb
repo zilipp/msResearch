{
 "cells": [
  {
   "cell_type": "markdown",
   "metadata": {},
   "source": [
    "# Import Lib"
   ]
  },
  {
   "cell_type": "code",
   "execution_count": 1,
   "metadata": {},
   "outputs": [],
   "source": [
    "import open3d as o3d\n",
    "import numpy as np\n",
    "\n",
    "import pandas\n",
    "from sklearn.decomposition import PCA\n",
    "\n",
    "import copy"
   ]
  },
  {
   "cell_type": "markdown",
   "metadata": {},
   "source": [
    "# Read scan model"
   ]
  },
  {
   "cell_type": "markdown",
   "metadata": {},
   "source": [
    "## import obj file"
   ]
  },
  {
   "cell_type": "code",
   "execution_count": 2,
   "metadata": {},
   "outputs": [
    {
     "name": "stdout",
     "output_type": "stream",
     "text": [
      "geometry::TriangleMesh with 35027 points and 68786 triangles.\n"
     ]
    }
   ],
   "source": [
    "scan_obj = o3d.io.read_triangle_mesh(\"./data/femur_half_4.obj\")\n",
    "print(scan_obj)"
   ]
  },
  {
   "cell_type": "code",
   "execution_count": 3,
   "metadata": {},
   "outputs": [],
   "source": [
    "o3d.visualization.draw_geometries([scan_obj], mesh_show_wireframe=True)"
   ]
  },
  {
   "cell_type": "markdown",
   "metadata": {},
   "source": [
    "# Scale unit length to 1mm (coordinate 1000x)"
   ]
  },
  {
   "cell_type": "markdown",
   "metadata": {},
   "source": [
    "## point center"
   ]
  },
  {
   "cell_type": "code",
   "execution_count": 4,
   "metadata": {},
   "outputs": [
    {
     "name": "stdout",
     "output_type": "stream",
     "text": [
      "[ 0.24559977 -0.49631218 -0.23152044]\n"
     ]
    }
   ],
   "source": [
    "points_center = scan_obj.get_center()\n",
    "print(points_center)"
   ]
  },
  {
   "cell_type": "code",
   "execution_count": 5,
   "metadata": {},
   "outputs": [
    {
     "data": {
      "text/plain": [
       "geometry::TriangleMesh with 35027 points and 68786 triangles."
      ]
     },
     "execution_count": 5,
     "metadata": {},
     "output_type": "execute_result"
    }
   ],
   "source": [
    "scan_obj.scale(1000.0, points_center)"
   ]
  },
  {
   "cell_type": "markdown",
   "metadata": {},
   "source": [
    "## save file"
   ]
  },
  {
   "cell_type": "code",
   "execution_count": 6,
   "metadata": {},
   "outputs": [
    {
     "data": {
      "text/plain": [
       "True"
      ]
     },
     "execution_count": 6,
     "metadata": {},
     "output_type": "execute_result"
    }
   ],
   "source": [
    "o3d.io.write_triangle_mesh(\"./data/femur_half_4_scaled.obj\", scan_obj)"
   ]
  },
  {
   "cell_type": "markdown",
   "metadata": {},
   "source": [
    "# Delete floor plane"
   ]
  },
  {
   "cell_type": "markdown",
   "metadata": {},
   "source": [
    "## change to point cloud"
   ]
  },
  {
   "cell_type": "code",
   "execution_count": 7,
   "metadata": {},
   "outputs": [],
   "source": [
    "number_of_points = np.asarray(scan_obj.vertices).shape[0]"
   ]
  },
  {
   "cell_type": "code",
   "execution_count": 8,
   "metadata": {},
   "outputs": [],
   "source": [
    "scan_obj.compute_vertex_normals()\n",
    "scan_pcd = scan_obj.sample_points_uniformly(number_of_points)\n",
    "# o3d.visualization.draw_geometries([scan_pcd])"
   ]
  },
  {
   "cell_type": "markdown",
   "metadata": {},
   "source": [
    "## find plane using RANSAC"
   ]
  },
  {
   "cell_type": "markdown",
   "metadata": {},
   "source": [
    "### plane function: ax + by + cz + d = 0"
   ]
  },
  {
   "cell_type": "code",
   "execution_count": 9,
   "metadata": {},
   "outputs": [
    {
     "name": "stdout",
     "output_type": "stream",
     "text": [
      "Plane equation: 0.00x + 1.00y + -0.01z + 6.81 = 0\n"
     ]
    }
   ],
   "source": [
    "plane_model, inliers = scan_pcd.segment_plane(distance_threshold=2,\n",
    "                                              ransac_n=3,\n",
    "                                              num_iterations=1000)\n",
    "[a, b, c, d] = plane_model\n",
    "print(f\"Plane equation: {a:.2f}x + {b:.2f}y + {c:.2f}z + {d:.2f} = 0\")"
   ]
  },
  {
   "cell_type": "code",
   "execution_count": 10,
   "metadata": {},
   "outputs": [],
   "source": [
    "# floor\n",
    "inlier_cloud = scan_pcd.select_by_index(inliers)\n",
    "inlier_cloud.paint_uniform_color([1.0, 0, 0])\n",
    "\n",
    "# bone \n",
    "bone_cloud = scan_pcd.select_by_index(inliers, invert=True)\n",
    "\n",
    "# o3d.visualization.draw_geometries([inlier_cloud, bone_cloud])"
   ]
  },
  {
   "cell_type": "markdown",
   "metadata": {},
   "source": [
    "# Delete outliers"
   ]
  },
  {
   "cell_type": "code",
   "execution_count": 11,
   "metadata": {},
   "outputs": [],
   "source": [
    "def display_inlier_outlier(cloud, ind):\n",
    "    inlier_cloud = cloud.select_by_index(ind)\n",
    "    outlier_cloud = cloud.select_by_index(ind, invert=True)\n",
    "\n",
    "    print(\"Showing outliers (red) and inliers (gray): \")\n",
    "    outlier_cloud.paint_uniform_color([1, 0, 0])\n",
    "    inlier_cloud.paint_uniform_color([0.8, 0.8, 0.8])\n",
    "    o3d.visualization.draw_geometries([inlier_cloud, outlier_cloud])"
   ]
  },
  {
   "cell_type": "code",
   "execution_count": 12,
   "metadata": {},
   "outputs": [
    {
     "name": "stdout",
     "output_type": "stream",
     "text": [
      "Showing outliers (red) and inliers (gray): \n"
     ]
    }
   ],
   "source": [
    "cl, ind = bone_cloud.remove_statistical_outlier(nb_neighbors=10,\n",
    "                                                std_ratio=2.0)\n",
    "# display outliers\n",
    "display_inlier_outlier(bone_cloud, ind)"
   ]
  },
  {
   "cell_type": "code",
   "execution_count": 13,
   "metadata": {},
   "outputs": [],
   "source": [
    "bone_cloud = bone_cloud.select_by_index(ind)\n",
    "# o3d.visualization.draw_geometries([bone_cloud])"
   ]
  },
  {
   "cell_type": "markdown",
   "metadata": {},
   "source": [
    "### write point cloud to file"
   ]
  },
  {
   "cell_type": "code",
   "execution_count": 14,
   "metadata": {},
   "outputs": [],
   "source": [
    "# o3d.io.write_point_cloud(\"./data/femur_half_4_bone_point_cloud.ply\", bone_cloud)"
   ]
  },
  {
   "cell_type": "markdown",
   "metadata": {},
   "source": [
    "# Read Target model"
   ]
  },
  {
   "cell_type": "markdown",
   "metadata": {},
   "source": [
    "## read mesh from target model"
   ]
  },
  {
   "cell_type": "code",
   "execution_count": 15,
   "metadata": {},
   "outputs": [
    {
     "name": "stdout",
     "output_type": "stream",
     "text": [
      "geometry::TriangleMesh with 10415430 points and 3471810 triangles.\n"
     ]
    }
   ],
   "source": [
    "target_obj = o3d.io.read_triangle_mesh(\"./data/Femur.stl\")\n",
    "print(target_obj)"
   ]
  },
  {
   "cell_type": "markdown",
   "metadata": {},
   "source": [
    "### down sample to point clould"
   ]
  },
  {
   "cell_type": "code",
   "execution_count": 16,
   "metadata": {},
   "outputs": [
    {
     "name": "stdout",
     "output_type": "stream",
     "text": [
      "5964\n"
     ]
    }
   ],
   "source": [
    "number_of_points = np.asarray(bone_cloud.points).shape[0]\n",
    "print(number_of_points)"
   ]
  },
  {
   "cell_type": "code",
   "execution_count": 17,
   "metadata": {},
   "outputs": [],
   "source": [
    "target_pcd = target_obj.sample_points_uniformly(number_of_points*3, seed=10)\n",
    "# o3d.visualization.draw_geometries([target_pcd], mesh_show_wireframe=True)"
   ]
  },
  {
   "cell_type": "code",
   "execution_count": 18,
   "metadata": {},
   "outputs": [],
   "source": [
    "# o3d.io.write_point_cloud(\"./data/femur_target_point_cloud.ply\", target_pcd)"
   ]
  },
  {
   "cell_type": "markdown",
   "metadata": {},
   "source": [
    "# Calculate PCA"
   ]
  },
  {
   "cell_type": "markdown",
   "metadata": {},
   "source": [
    "## Target"
   ]
  },
  {
   "cell_type": "markdown",
   "metadata": {},
   "source": [
    "### subtract mean each column"
   ]
  },
  {
   "cell_type": "code",
   "execution_count": 19,
   "metadata": {},
   "outputs": [],
   "source": [
    "target_bone_points_cloud_array = np.asarray(target_pcd.points)"
   ]
  },
  {
   "cell_type": "code",
   "execution_count": 20,
   "metadata": {},
   "outputs": [
    {
     "name": "stdout",
     "output_type": "stream",
     "text": [
      "[[ -90.55469037   22.83530695 -180.37680893]\n",
      " [ -90.84212097   25.44519751 -180.31737287]\n",
      " [ -91.27618579   25.31480551 -180.19959771]\n",
      " ...\n",
      " [  84.01156346  -17.75767594  204.09502917]\n",
      " [  85.8306403   -14.46792821  204.10202374]\n",
      " [  82.18522422  -14.62224043  204.11853827]]\n"
     ]
    }
   ],
   "source": [
    "target_bone_points_cloud_array = target_bone_points_cloud_array - target_bone_points_cloud_array.mean(axis=0, keepdims=True)\n",
    "print(target_bone_points_cloud_array)"
   ]
  },
  {
   "cell_type": "markdown",
   "metadata": {},
   "source": [
    "### PCA"
   ]
  },
  {
   "cell_type": "code",
   "execution_count": 21,
   "metadata": {},
   "outputs": [
    {
     "name": "stdout",
     "output_type": "stream",
     "text": [
      "[0.97502814 0.01584185 0.00913001]\n"
     ]
    }
   ],
   "source": [
    "target_pca = PCA(n_components=3)\n",
    "target_pca.fit(target_bone_points_cloud_array)\n",
    "print(target_pca.explained_variance_ratio_)"
   ]
  },
  {
   "cell_type": "code",
   "execution_count": 22,
   "metadata": {},
   "outputs": [],
   "source": [
    "target_bone_points_cloud_array = target_pca.transform(target_bone_points_cloud_array)"
   ]
  },
  {
   "cell_type": "code",
   "execution_count": 23,
   "metadata": {},
   "outputs": [],
   "source": [
    "target_bone_pca_pcd = o3d.geometry.PointCloud()\n",
    "target_bone_pca_pcd.points = o3d.utility.Vector3dVector(target_bone_points_cloud_array)"
   ]
  },
  {
   "cell_type": "code",
   "execution_count": 24,
   "metadata": {},
   "outputs": [],
   "source": [
    "# o3d.visualization.draw_geometries([target_bone_pca_pcd], mesh_show_wireframe=True)"
   ]
  },
  {
   "cell_type": "markdown",
   "metadata": {},
   "source": [
    "## Scan"
   ]
  },
  {
   "cell_type": "markdown",
   "metadata": {},
   "source": [
    "## subtract mean each column"
   ]
  },
  {
   "cell_type": "code",
   "execution_count": 25,
   "metadata": {},
   "outputs": [],
   "source": [
    "scan_bone_points_cloud_array = np.asarray(bone_cloud.points)"
   ]
  },
  {
   "cell_type": "code",
   "execution_count": 26,
   "metadata": {},
   "outputs": [
    {
     "name": "stdout",
     "output_type": "stream",
     "text": [
      "[[ 195.6493701     5.36482974   72.77265074]\n",
      " [ 200.64326472    6.6587375    72.97136928]\n",
      " [ 201.61424879    4.65614549   73.42438614]\n",
      " ...\n",
      " [-152.80220675  -20.97813386  -38.80940997]\n",
      " [-155.8017711   -20.51966519  -41.43718035]\n",
      " [-180.54500712  -25.8044468   -47.72561581]]\n"
     ]
    }
   ],
   "source": [
    "scan_bone_points_cloud_array = scan_bone_points_cloud_array - scan_bone_points_cloud_array.mean(axis=0, keepdims=True)\n",
    "print(scan_bone_points_cloud_array)"
   ]
  },
  {
   "cell_type": "markdown",
   "metadata": {},
   "source": [
    "### PCA"
   ]
  },
  {
   "cell_type": "code",
   "execution_count": 27,
   "metadata": {},
   "outputs": [
    {
     "name": "stdout",
     "output_type": "stream",
     "text": [
      "[0.97321351 0.01824985 0.00853664]\n"
     ]
    }
   ],
   "source": [
    "scan_pca = PCA(n_components=3)\n",
    "scan_pca.fit(scan_bone_points_cloud_array)\n",
    "print(scan_pca.explained_variance_ratio_)"
   ]
  },
  {
   "cell_type": "code",
   "execution_count": 28,
   "metadata": {},
   "outputs": [],
   "source": [
    "scan_bone_points_cloud_array = scan_pca.transform(scan_bone_points_cloud_array)"
   ]
  },
  {
   "cell_type": "code",
   "execution_count": 29,
   "metadata": {},
   "outputs": [],
   "source": [
    "scan_bone_pca_pcd = o3d.geometry.PointCloud()\n",
    "scan_bone_pca_pcd.points = o3d.utility.Vector3dVector(scan_bone_points_cloud_array)"
   ]
  },
  {
   "cell_type": "code",
   "execution_count": 30,
   "metadata": {},
   "outputs": [],
   "source": [
    "o3d.visualization.draw_geometries([scan_bone_pca_pcd], mesh_show_wireframe=True)"
   ]
  },
  {
   "cell_type": "markdown",
   "metadata": {},
   "source": [
    "## visualize together"
   ]
  },
  {
   "cell_type": "code",
   "execution_count": 31,
   "metadata": {},
   "outputs": [
    {
     "data": {
      "text/plain": [
       "geometry::PointCloud with 5964 points."
      ]
     },
     "execution_count": 31,
     "metadata": {},
     "output_type": "execute_result"
    }
   ],
   "source": [
    "target_bone_pca_pcd.paint_uniform_color([1, 0, 0])\n",
    "scan_bone_pca_pcd.paint_uniform_color([0, 1, 0])"
   ]
  },
  {
   "cell_type": "code",
   "execution_count": 32,
   "metadata": {},
   "outputs": [
    {
     "data": {
      "text/plain": [
       "True"
      ]
     },
     "execution_count": 32,
     "metadata": {},
     "output_type": "execute_result"
    }
   ],
   "source": [
    "o3d.io.write_point_cloud(\"./data/target_temp.ply\", target_bone_pca_pcd)\n",
    "o3d.io.write_point_cloud(\"./data/scan_temp.ply\", scan_bone_pca_pcd)"
   ]
  },
  {
   "cell_type": "code",
   "execution_count": 33,
   "metadata": {},
   "outputs": [],
   "source": [
    "o3d.visualization.draw_geometries([target_bone_pca_pcd, scan_bone_pca_pcd], mesh_show_wireframe=True)"
   ]
  },
  {
   "cell_type": "markdown",
   "metadata": {},
   "source": [
    "# Registration"
   ]
  },
  {
   "cell_type": "markdown",
   "metadata": {},
   "source": [
    "## define source and target, helper plot fucntion"
   ]
  },
  {
   "cell_type": "code",
   "execution_count": 34,
   "metadata": {},
   "outputs": [],
   "source": [
    "source = scan_bone_pca_pcd\n",
    "target = target_bone_pca_pcd"
   ]
  },
  {
   "cell_type": "code",
   "execution_count": 35,
   "metadata": {},
   "outputs": [],
   "source": [
    "def draw_registration_result(source, target, transformation, name):\n",
    "    source_temp = copy.deepcopy(source)\n",
    "    target_temp = copy.deepcopy(target)\n",
    "    source_temp.paint_uniform_color([0, 1, 0])\n",
    "    target_temp.paint_uniform_color([1, 0, 0])\n",
    "    source_temp.transform(transformation)\n",
    "    \n",
    "    # add aixs\n",
    "    aix_points = [[0, 0, 0],\n",
    "                  [0, 0, 100],\n",
    "                  [100, 0, 0],\n",
    "                  [0, 100, 0]]\n",
    "    aix_lines = [[0, 1],\n",
    "                 [0, 2],\n",
    "                 [0, 3]]\n",
    "    colors = [[0, 0, 0] for i in range(len(aix_lines))]\n",
    "    aix_line_set = o3d.geometry.LineSet(\n",
    "        points=o3d.utility.Vector3dVector(aix_points),\n",
    "        lines=o3d.utility.Vector2iVector(aix_lines),\n",
    "    )\n",
    "    aix_line_set.colors = o3d.utility.Vector3dVector(colors)\n",
    "    \n",
    "    o3d.visualization.draw_geometries([source_temp, target_temp, aix_line_set], name)"
   ]
  },
  {
   "cell_type": "markdown",
   "metadata": {},
   "source": [
    "## initial transformation matrix"
   ]
  },
  {
   "cell_type": "code",
   "execution_count": 36,
   "metadata": {},
   "outputs": [],
   "source": [
    "source_array = np.asarray(source.points)\n",
    "target_array = np.asarray(target.points)"
   ]
  },
  {
   "cell_type": "code",
   "execution_count": 37,
   "metadata": {},
   "outputs": [],
   "source": [
    "source_max_in_columns = np.amax(source_array, axis=0)\n",
    "target_max_in_columns = np.amax(target_array, axis=0)\n",
    "\n",
    "source_min_in_columns = np.amin(source_array, axis=0)\n",
    "target_min_in_columns = np.amin(target_array, axis=0)"
   ]
  },
  {
   "cell_type": "code",
   "execution_count": 38,
   "metadata": {},
   "outputs": [
    {
     "name": "stdout",
     "output_type": "stream",
     "text": [
      "source:\n",
      "[-206.49121416  -40.21611976  -29.56818195]\n",
      "[235.0414499   46.09082496  34.54498367]\n",
      "target: \n",
      "[-204.06291084  -34.47748846  -24.56640372]\n",
      "[221.16770043  48.68529274  38.02743083]\n"
     ]
    }
   ],
   "source": [
    "print('source:')\n",
    "print(source_min_in_columns)\n",
    "print(source_max_in_columns)\n",
    "\n",
    "print('target: ')\n",
    "print(target_min_in_columns)\n",
    "print(target_max_in_columns)"
   ]
  },
  {
   "cell_type": "code",
   "execution_count": 39,
   "metadata": {},
   "outputs": [
    {
     "name": "stdout",
     "output_type": "stream",
     "text": [
      "[0.96307849 0.96356998 0.97630235]\n"
     ]
    }
   ],
   "source": [
    "strech = np.divide(target_max_in_columns - target_min_in_columns, source_max_in_columns - source_min_in_columns) \n",
    "print(strech)"
   ]
  },
  {
   "cell_type": "code",
   "execution_count": 40,
   "metadata": {},
   "outputs": [],
   "source": [
    "threshold =8\n",
    "trans_init = np.asarray([[strech[0], 0, 0, 0],\n",
    "                         [0, strech[1], 0, 0],\n",
    "                         [0, 0, strech[2], 0],\n",
    "                         [0, 0,  0, 1]])\n",
    "draw_registration_result(source, target, trans_init, 'init matrix result')"
   ]
  },
  {
   "cell_type": "code",
   "execution_count": 41,
   "metadata": {},
   "outputs": [
    {
     "name": "stdout",
     "output_type": "stream",
     "text": [
      "registration::RegistrationResult with fitness=9.431590e-01, inlier_rmse=4.004533e+00, and correspondence_set size of 5625\n",
      "Access transformation to get result.\n"
     ]
    }
   ],
   "source": [
    "evaluation = o3d.registration.evaluate_registration(source, target, threshold, trans_init)\n",
    "print(evaluation)"
   ]
  },
  {
   "cell_type": "code",
   "execution_count": 42,
   "metadata": {},
   "outputs": [
    {
     "name": "stdout",
     "output_type": "stream",
     "text": [
      "registration::RegistrationResult with fitness=9.931254e-01, inlier_rmse=3.168534e+00, and correspondence_set size of 5923\n",
      "Access transformation to get result.\n",
      "Transformation is:\n",
      "[[ 9.63075242e-01  2.20966733e-03 -1.19019941e-03 -7.32660888e+00]\n",
      " [-2.12346309e-03  9.61330853e-01  6.64840287e-02  1.08286064e-01]\n",
      " [ 1.32174674e-03 -6.56141710e-02  9.74035289e-01  2.36719423e+00]\n",
      " [ 0.00000000e+00  0.00000000e+00  0.00000000e+00  1.00000000e+00]]\n"
     ]
    }
   ],
   "source": [
    "reg_p2p = o3d.registration.registration_icp(\n",
    "        source, target, threshold, trans_init,\n",
    "        o3d.registration.TransformationEstimationPointToPoint(),\n",
    "        o3d.registration.ICPConvergenceCriteria(max_iteration = 2000))\n",
    "print(reg_p2p)\n",
    "print(\"Transformation is:\")\n",
    "print(reg_p2p.transformation)"
   ]
  },
  {
   "cell_type": "code",
   "execution_count": 43,
   "metadata": {},
   "outputs": [],
   "source": [
    "# draw_registration_result(source, target, reg_p2p.transformation, 'p2p')\n",
    "# compute cpd registration\n",
    "result = copy.deepcopy(source)\n",
    "result = result.transform(reg_p2p.transformation)\n",
    "\n",
    "# draw result: source: green, target: red, registed: blue\n",
    "source.paint_uniform_color([0, 1, 0])\n",
    "target.paint_uniform_color([1, 0, 0])\n",
    "result.paint_uniform_color([0, 0, 1])\n",
    "o3d.visualization.draw_geometries([source, target, result])"
   ]
  },
  {
   "cell_type": "code",
   "execution_count": 44,
   "metadata": {},
   "outputs": [
    {
     "data": {
      "text/plain": [
       "True"
      ]
     },
     "execution_count": 44,
     "metadata": {},
     "output_type": "execute_result"
    }
   ],
   "source": [
    "o3d.io.write_point_cloud(\"./data/result_temp.ply\", result)"
   ]
  },
  {
   "cell_type": "markdown",
   "metadata": {},
   "source": [
    "# -------------------------------------------------"
   ]
  },
  {
   "cell_type": "code",
   "execution_count": 45,
   "metadata": {},
   "outputs": [],
   "source": [
    "# from probreg import cpd"
   ]
  },
  {
   "cell_type": "code",
   "execution_count": 46,
   "metadata": {},
   "outputs": [],
   "source": [
    "# tf_param, _, _ = cpd.registration_cpd(source, target)"
   ]
  },
  {
   "cell_type": "code",
   "execution_count": 47,
   "metadata": {},
   "outputs": [],
   "source": [
    "# # compute cpd registration\n",
    "# result = copy.deepcopy(source)\n",
    "# result.points = tf_param.transform(result.points)\n",
    "\n",
    "# # draw result\n",
    "# source.paint_uniform_color([0, 1, 0])\n",
    "# target.paint_uniform_color([1, 0, 0])\n",
    "# result.paint_uniform_color([0, 0, 1])\n",
    "# o3d.visualization.draw_geometries([source, target, result])"
   ]
  },
  {
   "cell_type": "code",
   "execution_count": null,
   "metadata": {},
   "outputs": [],
   "source": []
  },
  {
   "cell_type": "code",
   "execution_count": null,
   "metadata": {},
   "outputs": [],
   "source": []
  }
 ],
 "metadata": {
  "kernelspec": {
   "display_name": "open_3d",
   "language": "python",
   "name": "open_3d"
  },
  "language_info": {
   "codemirror_mode": {
    "name": "ipython",
    "version": 3
   },
   "file_extension": ".py",
   "mimetype": "text/x-python",
   "name": "python",
   "nbconvert_exporter": "python",
   "pygments_lexer": "ipython3",
   "version": "3.7.7"
  }
 },
 "nbformat": 4,
 "nbformat_minor": 4
}
