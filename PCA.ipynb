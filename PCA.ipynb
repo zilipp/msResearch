{
 "cells": [
  {
   "cell_type": "code",
   "execution_count": 8,
   "metadata": {},
   "outputs": [],
   "source": [
    "import open3d as o3d\n",
    "import numpy as np\n",
    "\n",
    "import pandas\n",
    "from sklearn.decomposition import PCA\n",
    "\n",
    "import copy"
   ]
  },
  {
   "cell_type": "code",
   "execution_count": 9,
   "metadata": {},
   "outputs": [],
   "source": [
    "# add aixs\n",
    "aix_points = [[0, 0, 0],\n",
    "              [0, 0, 100],\n",
    "              [400, 0, 0],\n",
    "              [0, 100, 0],\n",
    "              [-400, 0, 0],]\n",
    "aix_lines = [[0, 1],\n",
    "             [0, 2],\n",
    "             [0, 3]]\n",
    "\n",
    "colors = [[1,0,1], [0,0,0], [0,0,0]]\n",
    "aix_line_set = o3d.geometry.LineSet(\n",
    "    points=o3d.utility.Vector3dVector(aix_points),\n",
    "    lines=o3d.utility.Vector2iVector(aix_lines),\n",
    ")\n",
    "aix_line_set.colors = o3d.utility.Vector3dVector(colors)"
   ]
  },
  {
   "cell_type": "code",
   "execution_count": 10,
   "metadata": {},
   "outputs": [
    {
     "name": "stdout",
     "output_type": "stream",
     "text": [
      "geometry::TriangleMesh with 35943 points and 70305 triangles.\n"
     ]
    },
    {
     "data": {
      "text/plain": [
       "array([[194.71503932,  29.26238589,  83.04554182],\n",
       "       [195.84619502,  32.25221931,  80.3254979 ],\n",
       "       [191.1990863 ,  29.59268001,  79.39898982],\n",
       "       ...,\n",
       "       [ 29.93830459,   1.38449136,  18.54640952],\n",
       "       [ 35.25098112,   1.20028918,  17.36569241],\n",
       "       [ 56.25212642,   1.55079809,  15.50840332]])"
      ]
     },
     "execution_count": 10,
     "metadata": {},
     "output_type": "execute_result"
    }
   ],
   "source": [
    "scan_obj = o3d.io.read_triangle_mesh(\"./data/femur_half_3.obj\")\n",
    "print(scan_obj)\n",
    "points_center = scan_obj.get_center()\n",
    "scan_obj.scale(1000.0, points_center)\n",
    "number_of_points = np.asarray(scan_obj.vertices).shape[0]\n",
    "scan_obj.compute_vertex_normals()\n",
    "scan_pcd = scan_obj.sample_points_uniformly(number_of_points)\n",
    "plane_model, inliers = scan_pcd.segment_plane(distance_threshold=5,\n",
    "                                              ransac_n=3,\n",
    "                                              num_iterations=1000)\n",
    "[a, b, c, d] = plane_model\n",
    "# floor\n",
    "inlier_cloud = scan_pcd.select_by_index(inliers)\n",
    "inlier_cloud.paint_uniform_color([1.0, 0, 0])\n",
    "\n",
    "# bone \n",
    "bone_cloud = scan_pcd.select_by_index(inliers, invert=True)\n",
    "\n",
    "cl, ind = bone_cloud.remove_statistical_outlier(nb_neighbors=10,std_ratio=2)\n",
    "\n",
    "bone_cloud = bone_cloud.select_by_index(ind)\n",
    "\n",
    "scan_bone_points_cloud_array = np.asarray(bone_cloud.points)\n",
    "\n",
    "X = scan_bone_points_cloud_array\n",
    "X"
   ]
  },
  {
   "cell_type": "code",
   "execution_count": 11,
   "metadata": {},
   "outputs": [
    {
     "data": {
      "text/plain": [
       "array([[188.13791195,   2.60889153,  46.74803253],\n",
       "       [189.26906765,   5.59872494,  44.02798861],\n",
       "       [184.62195894,   2.93918565,  43.10148053],\n",
       "       ...,\n",
       "       [ 23.36117723, -25.269003  , -17.75109977],\n",
       "       [ 28.67385375, -25.45320518, -18.93181688],\n",
       "       [ 49.67499905, -25.10269628, -20.78910597]])"
      ]
     },
     "execution_count": 11,
     "metadata": {},
     "output_type": "execute_result"
    }
   ],
   "source": [
    "X = X - X.mean(axis=0, keepdims=True)\n",
    "X"
   ]
  },
  {
   "cell_type": "code",
   "execution_count": 12,
   "metadata": {},
   "outputs": [
    {
     "data": {
      "text/plain": [
       "PCA(n_components=3)"
      ]
     },
     "execution_count": 12,
     "metadata": {},
     "output_type": "execute_result"
    }
   ],
   "source": [
    "pca = PCA(n_components=3)\n",
    "pca.fit(X)"
   ]
  },
  {
   "cell_type": "code",
   "execution_count": 13,
   "metadata": {},
   "outputs": [
    {
     "data": {
      "text/plain": [
       "array([[ 0.99959181, -0.02178979,  0.01847772],\n",
       "       [-0.01773595,  0.03375758,  0.99927267],\n",
       "       [ 0.02239771,  0.99919249, -0.03335734]])"
      ]
     },
     "execution_count": 13,
     "metadata": {},
     "output_type": "execute_result"
    }
   ],
   "source": [
    "pca.components_"
   ]
  },
  {
   "cell_type": "code",
   "execution_count": 14,
   "metadata": {},
   "outputs": [
    {
     "data": {
      "text/plain": [
       "array([-0.02239771, -0.99919249,  0.03335734])"
      ]
     },
     "execution_count": 14,
     "metadata": {},
     "output_type": "execute_result"
    }
   ],
   "source": [
    "x_ = pca.components_[0]\n",
    "y_ =pca.components_[1]\n",
    "z_ = np.cross(x_, y_)\n",
    "z_"
   ]
  },
  {
   "cell_type": "code",
   "execution_count": 10,
   "metadata": {},
   "outputs": [
    {
     "data": {
      "text/plain": [
       "array([20519.00621512,   404.27366874,   170.46871303])"
      ]
     },
     "execution_count": 10,
     "metadata": {},
     "output_type": "execute_result"
    }
   ],
   "source": [
    "pca.explained_variance_"
   ]
  },
  {
   "cell_type": "code",
   "execution_count": 11,
   "metadata": {},
   "outputs": [
    {
     "data": {
      "text/plain": [
       "array([0.97275295, 0.01916557, 0.00808148])"
      ]
     },
     "execution_count": 11,
     "metadata": {},
     "output_type": "execute_result"
    }
   ],
   "source": [
    "pca.explained_variance_ratio_"
   ]
  },
  {
   "cell_type": "code",
   "execution_count": 52,
   "metadata": {},
   "outputs": [
    {
     "data": {
      "text/plain": [
       "array([[188.88554145,  43.27077347,   5.30944142],\n",
       "       [189.48884311,  41.047298  ,   7.75943821],\n",
       "       [187.19210834,  39.71594111,   7.20603471],\n",
       "       ...,\n",
       "       [ 44.95433614, -21.81435346, -23.88564353],\n",
       "       [ 46.57545543, -22.11680351, -23.79968968],\n",
       "       [ 51.77939989, -22.80968669, -23.31513073]])"
      ]
     },
     "execution_count": 52,
     "metadata": {},
     "output_type": "execute_result"
    }
   ],
   "source": [
    "X_after = pca.transform(X) # X_after = np.dot(pca.components_, X.T).T \n",
    "X_after"
   ]
  },
  {
   "cell_type": "code",
   "execution_count": 56,
   "metadata": {},
   "outputs": [],
   "source": [
    "def distance(X, X_after, i, j):\n",
    "    res1 =  (X[i][0] - X[j][0]) ** 2 + (X[i][1] - X[j][1]) ** 2 + (X[i][2] - X[j][2]) ** 2\n",
    "    res2 =  (X_after[i][0] - X_after[j][0]) ** 2 + (X_after[i][1] - X_after[j][1]) ** 2 + (X_after[i][2] - X_after[j][2]) ** 2\n",
    "    return res1 - res2"
   ]
  },
  {
   "cell_type": "code",
   "execution_count": 63,
   "metadata": {},
   "outputs": [
    {
     "data": {
      "text/plain": [
       "1.4551915228366852e-11"
      ]
     },
     "execution_count": 63,
     "metadata": {},
     "output_type": "execute_result"
    }
   ],
   "source": [
    "max_dis = 0\n",
    "for i in range(1,4000,20):\n",
    "    for j in range(1,4000,25):\n",
    "        dis = distance(X, X_after, i, j)\n",
    "        max_dis = max(dis, max_dis)\n",
    "max_dis"
   ]
  },
  {
   "cell_type": "code",
   "execution_count": 14,
   "metadata": {},
   "outputs": [],
   "source": [
    "X_pcd = o3d.geometry.PointCloud()\n",
    "X_pcd.points = o3d.utility.Vector3dVector(X)\n",
    "\n",
    "X_after_pcd = o3d.geometry.PointCloud()\n",
    "X_after_pcd.points = o3d.utility.Vector3dVector(X_after)"
   ]
  },
  {
   "cell_type": "code",
   "execution_count": 15,
   "metadata": {},
   "outputs": [
    {
     "data": {
      "text/plain": [
       "geometry::PointCloud with 4654 points."
      ]
     },
     "execution_count": 15,
     "metadata": {},
     "output_type": "execute_result"
    }
   ],
   "source": [
    "X_pcd.paint_uniform_color([1, 0, 0])\n",
    "X_after_pcd.paint_uniform_color([0, 1, 0])"
   ]
  },
  {
   "cell_type": "code",
   "execution_count": 64,
   "metadata": {},
   "outputs": [],
   "source": [
    "o3d.visualization.draw_geometries([X_pcd, aix_line_set])"
   ]
  },
  {
   "cell_type": "code",
   "execution_count": 71,
   "metadata": {},
   "outputs": [],
   "source": [
    "o3d.visualization.draw_geometries([X_pcd,X_after_pcd, aix_line_set])"
   ]
  },
  {
   "cell_type": "markdown",
   "metadata": {},
   "source": [
    "### -----------------"
   ]
  },
  {
   "cell_type": "code",
   "execution_count": 73,
   "metadata": {},
   "outputs": [],
   "source": [
    "vectors = np.array([[0.99959866, -0.02154738,  0.01839112],\n",
    "                    [0.01759935,  -0.03637623,  -0.99918318],\n",
    "                    [0.02219878,  0.99910584, -0.03598241]])"
   ]
  },
  {
   "cell_type": "code",
   "execution_count": 85,
   "metadata": {},
   "outputs": [
    {
     "data": {
      "text/plain": [
       "array([[188.88554145,  43.27077347,  -5.30944142],\n",
       "       [189.48884311,  41.047298  ,  -7.75943821],\n",
       "       [187.19210834,  39.71594111,  -7.20603471],\n",
       "       ...,\n",
       "       [ 44.95433614, -21.81435346,  23.88564353],\n",
       "       [ 46.57545543, -22.11680351,  23.79968968],\n",
       "       [ 51.77939989, -22.80968669,  23.31513073]])"
      ]
     },
     "execution_count": 85,
     "metadata": {},
     "output_type": "execute_result"
    }
   ],
   "source": [
    "res = np.dot(vectors, X.T).T\n",
    "# res[:,2] = -res[:, 2]\n",
    "res"
   ]
  },
  {
   "cell_type": "code",
   "execution_count": 86,
   "metadata": {},
   "outputs": [],
   "source": [
    "res_pcd = o3d.geometry.PointCloud()\n",
    "res_pcd.points = o3d.utility.Vector3dVector(res)"
   ]
  },
  {
   "cell_type": "code",
   "execution_count": null,
   "metadata": {},
   "outputs": [],
   "source": [
    "o3d.visualization.draw_geometries([res_pcd, aix_line_set])"
   ]
  },
  {
   "cell_type": "code",
   "execution_count": 83,
   "metadata": {},
   "outputs": [],
   "source": [
    "o3d.visualization.draw_geometries([X_pcd,res_pcd, aix_line_set])"
   ]
  },
  {
   "cell_type": "code",
   "execution_count": 78,
   "metadata": {},
   "outputs": [],
   "source": [
    "o3d.visualization.draw_geometries([X_after_pcd,res_pcd, aix_line_set])"
   ]
  },
  {
   "cell_type": "code",
   "execution_count": null,
   "metadata": {},
   "outputs": [],
   "source": []
  }
 ],
 "metadata": {
  "kernelspec": {
   "display_name": "open_3d",
   "language": "python",
   "name": "open_3d"
  },
  "language_info": {
   "codemirror_mode": {
    "name": "ipython",
    "version": 3
   },
   "file_extension": ".py",
   "mimetype": "text/x-python",
   "name": "python",
   "nbconvert_exporter": "python",
   "pygments_lexer": "ipython3",
   "version": "3.7.7"
  }
 },
 "nbformat": 4,
 "nbformat_minor": 4
}
