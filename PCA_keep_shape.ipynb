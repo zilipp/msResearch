{
 "cells": [
  {
   "cell_type": "markdown",
   "metadata": {},
   "source": [
    "# Import Lib"
   ]
  },
  {
   "cell_type": "code",
   "execution_count": 1,
   "metadata": {},
   "outputs": [],
   "source": [
    "import open3d as o3d\n",
    "import numpy as np\n",
    "\n",
    "import pandas\n",
    "from sklearn.decomposition import PCA\n",
    "\n",
    "import math\n",
    "import copy"
   ]
  },
  {
   "cell_type": "code",
   "execution_count": 2,
   "metadata": {},
   "outputs": [],
   "source": [
    "# add aixs\n",
    "aix_points = [[0, 0, 0],\n",
    "              [0, 0, 100],\n",
    "              [400, 0, 0],\n",
    "              [0, 100, 0],\n",
    "              [-400, 0, 0],]\n",
    "aix_lines = [[0, 1], # z-aix\n",
    "             [0, 2], # x-aix\n",
    "             [0, 3]] # y-aix\n",
    "\n",
    "colors = [[1,0,1], [0,0,0], [0,0,0]]\n",
    "aix_line_set = o3d.geometry.LineSet(points=o3d.utility.Vector3dVector(aix_points),\n",
    "                                    lines=o3d.utility.Vector2iVector(aix_lines))\n",
    "aix_line_set.colors = o3d.utility.Vector3dVector(colors)"
   ]
  },
  {
   "cell_type": "markdown",
   "metadata": {},
   "source": [
    "# Read scan model\n",
    "## import obj file"
   ]
  },
  {
   "cell_type": "code",
   "execution_count": 3,
   "metadata": {},
   "outputs": [
    {
     "name": "stdout",
     "output_type": "stream",
     "text": [
      "geometry::TriangleMesh with 35027 points and 68786 triangles.\n"
     ]
    }
   ],
   "source": [
    "scan_obj = o3d.io.read_triangle_mesh(\"./data/femur_half_4.obj\")\n",
    "print(scan_obj)\n",
    "o3d.visualization.draw_geometries([scan_obj], mesh_show_wireframe=True)"
   ]
  },
  {
   "cell_type": "markdown",
   "metadata": {},
   "source": [
    "## Scale unit length to 1mm (coordinate 1000x)"
   ]
  },
  {
   "cell_type": "code",
   "execution_count": 4,
   "metadata": {},
   "outputs": [
    {
     "name": "stdout",
     "output_type": "stream",
     "text": [
      "[ 0.24559977 -0.49631218 -0.23152044]\n"
     ]
    },
    {
     "data": {
      "text/plain": [
       "geometry::TriangleMesh with 35027 points and 68786 triangles."
      ]
     },
     "execution_count": 4,
     "metadata": {},
     "output_type": "execute_result"
    }
   ],
   "source": [
    "points_center = scan_obj.get_center()\n",
    "print(points_center)\n",
    "scan_obj.scale(1000.0, points_center)"
   ]
  },
  {
   "cell_type": "markdown",
   "metadata": {},
   "source": [
    "## change to point cloud"
   ]
  },
  {
   "cell_type": "code",
   "execution_count": 5,
   "metadata": {},
   "outputs": [],
   "source": [
    "number_of_points = np.asarray(scan_obj.vertices).shape[0]\n",
    "scan_obj.compute_vertex_normals()\n",
    "scan_pcd = scan_obj.sample_points_uniformly(number_of_points)"
   ]
  },
  {
   "cell_type": "markdown",
   "metadata": {},
   "source": [
    "## Delete floor plane"
   ]
  },
  {
   "cell_type": "markdown",
   "metadata": {},
   "source": [
    "### find plane using RANSAC: plane function: ax + by + cz + d = 0"
   ]
  },
  {
   "cell_type": "code",
   "execution_count": 6,
   "metadata": {},
   "outputs": [
    {
     "name": "stdout",
     "output_type": "stream",
     "text": [
      "Plane equation: 0.00x + 1.00y + -0.01z + 6.81 = 0\n"
     ]
    }
   ],
   "source": [
    "plane_model, inliers = scan_pcd.segment_plane(distance_threshold=2,\n",
    "                                              ransac_n=3,\n",
    "                                              num_iterations=1000)\n",
    "[a, b, c, d] = plane_model\n",
    "print(f\"Plane equation: {a:.2f}x + {b:.2f}y + {c:.2f}z + {d:.2f} = 0\")\n",
    "\n",
    "# floor\n",
    "inlier_cloud = scan_pcd.select_by_index(inliers)\n",
    "inlier_cloud.paint_uniform_color([1.0, 0, 0])\n",
    "\n",
    "# bone \n",
    "bone_cloud = scan_pcd.select_by_index(inliers, invert=True)"
   ]
  },
  {
   "cell_type": "markdown",
   "metadata": {},
   "source": [
    "## Delete outliers"
   ]
  },
  {
   "cell_type": "code",
   "execution_count": 7,
   "metadata": {},
   "outputs": [],
   "source": [
    "def display_inlier_outlier(cloud, ind):\n",
    "    inlier_cloud = cloud.select_by_index(ind)\n",
    "    outlier_cloud = cloud.select_by_index(ind, invert=True)\n",
    "\n",
    "    print(\"Showing outliers (red) and inliers (gray): \")\n",
    "    outlier_cloud.paint_uniform_color([1, 0, 0])\n",
    "    inlier_cloud.paint_uniform_color([0.8, 0.8, 0.8])\n",
    "    o3d.visualization.draw_geometries([inlier_cloud, outlier_cloud])"
   ]
  },
  {
   "cell_type": "code",
   "execution_count": 8,
   "metadata": {},
   "outputs": [
    {
     "name": "stdout",
     "output_type": "stream",
     "text": [
      "Showing outliers (red) and inliers (gray): \n"
     ]
    }
   ],
   "source": [
    "cl, ind = bone_cloud.remove_statistical_outlier(nb_neighbors=10,\n",
    "                                                std_ratio=2.0)\n",
    "# display outliers\n",
    "display_inlier_outlier(bone_cloud, ind)"
   ]
  },
  {
   "cell_type": "code",
   "execution_count": 9,
   "metadata": {},
   "outputs": [],
   "source": [
    "bone_cloud = bone_cloud.select_by_index(ind)"
   ]
  },
  {
   "cell_type": "markdown",
   "metadata": {},
   "source": [
    "## Calculate PCA"
   ]
  },
  {
   "cell_type": "markdown",
   "metadata": {},
   "source": [
    "### subtract mean each column"
   ]
  },
  {
   "cell_type": "code",
   "execution_count": 10,
   "metadata": {},
   "outputs": [
    {
     "name": "stdout",
     "output_type": "stream",
     "text": [
      "[[ 194.68198022    5.25606899   72.57236095]\n",
      " [ 199.18025416    5.2923772    73.2320681 ]\n",
      " [ 202.08668649    5.072772     72.93378704]\n",
      " ...\n",
      " [-155.37024379  -20.44356418  -40.49412191]\n",
      " [-153.72207276  -19.91029507  -41.15306923]\n",
      " [-156.2378249   -19.59967706  -42.43630974]]\n"
     ]
    }
   ],
   "source": [
    "scan_bone_points_cloud_array = np.asarray(bone_cloud.points)\n",
    "scan_bone_points_cloud_array = scan_bone_points_cloud_array - scan_bone_points_cloud_array.mean(axis=0, keepdims=True)\n",
    "print(scan_bone_points_cloud_array)"
   ]
  },
  {
   "cell_type": "markdown",
   "metadata": {},
   "source": [
    "### PCA"
   ]
  },
  {
   "cell_type": "code",
   "execution_count": 11,
   "metadata": {},
   "outputs": [
    {
     "data": {
      "text/plain": [
       "array([[ 0.98956125, -0.0158688 ,  0.14323657],\n",
       "       [-0.14116314,  0.0933332 ,  0.98557693],\n",
       "       [ 0.02900865,  0.99550846, -0.09011883]])"
      ]
     },
     "execution_count": 11,
     "metadata": {},
     "output_type": "execute_result"
    }
   ],
   "source": [
    "pca = PCA(n_components=3)\n",
    "pca.fit(scan_bone_points_cloud_array)\n",
    "pca.components_"
   ]
  },
  {
   "cell_type": "markdown",
   "metadata": {},
   "source": [
    "#### right hand rule"
   ]
  },
  {
   "cell_type": "code",
   "execution_count": 12,
   "metadata": {},
   "outputs": [
    {
     "data": {
      "text/plain": [
       "array([[ 0.98956125, -0.0158688 ,  0.14323657],\n",
       "       [-0.14116314,  0.0933332 ,  0.98557693],\n",
       "       [-0.02900865, -0.99550846,  0.09011883]])"
      ]
     },
     "execution_count": 12,
     "metadata": {},
     "output_type": "execute_result"
    }
   ],
   "source": [
    "x_ = pca.components_[0]\n",
    "y_ =pca.components_[1]\n",
    "z_ = np.cross(x_, y_)\n",
    "tran_matrix = np.array([x_, y_, z_])\n",
    "tran_matrix"
   ]
  },
  {
   "cell_type": "markdown",
   "metadata": {},
   "source": [
    "#### rotate about x-aix"
   ]
  },
  {
   "cell_type": "code",
   "execution_count": 13,
   "metadata": {},
   "outputs": [],
   "source": [
    "rotate_x_matrix = np.array([[1, 0, 0],\n",
    "                            [0, math.cos(math.pi), -math.sin(math.pi)],\n",
    "                            [0, math.sin(math.pi), math.cos(math.pi)]])"
   ]
  },
  {
   "cell_type": "code",
   "execution_count": 14,
   "metadata": {},
   "outputs": [
    {
     "data": {
      "text/plain": [
       "array([[ 202.96135194,   44.53429158,   -4.33978697],\n",
       "       [ 207.50658754,   44.55288203,   -4.44696893],\n",
       "       [ 210.34344047,   43.82812554,   -4.33954252],\n",
       "       ...,\n",
       "       [-159.22419671,  -19.88558481,   21.20953977],\n",
       "       [-157.69607822,  -20.71791737,   20.57147107],\n",
       "       [-160.37430516,  -21.59852718,   20.21958266]])"
      ]
     },
     "execution_count": 14,
     "metadata": {},
     "output_type": "execute_result"
    }
   ],
   "source": [
    "bone_after_pca = np.dot(tran_matrix, scan_bone_points_cloud_array.T).T \n",
    "bone_after_pca"
   ]
  },
  {
   "cell_type": "code",
   "execution_count": 15,
   "metadata": {},
   "outputs": [
    {
     "data": {
      "text/plain": [
       "array([[ 202.96135194,  -44.53429158,    4.33978697],\n",
       "       [ 207.50658754,  -44.55288203,    4.44696893],\n",
       "       [ 210.34344047,  -43.82812554,    4.33954252],\n",
       "       ...,\n",
       "       [-159.22419671,   19.88558481,  -21.20953977],\n",
       "       [-157.69607822,   20.71791737,  -20.57147107],\n",
       "       [-160.37430516,   21.59852718,  -20.21958266]])"
      ]
     },
     "execution_count": 15,
     "metadata": {},
     "output_type": "execute_result"
    }
   ],
   "source": [
    "bone_after_rotation = np.dot(rotate_x_matrix.T, bone_after_pca.T).T \n",
    "bone_after_rotation"
   ]
  },
  {
   "cell_type": "code",
   "execution_count": 16,
   "metadata": {},
   "outputs": [],
   "source": [
    "scan_bone_pca_pcd = o3d.geometry.PointCloud()\n",
    "scan_bone_pca_pcd.points = o3d.utility.Vector3dVector(bone_after_rotation)\n",
    "o3d.visualization.draw_geometries([scan_bone_pca_pcd, aix_line_set])"
   ]
  },
  {
   "cell_type": "markdown",
   "metadata": {},
   "source": [
    "## save file"
   ]
  },
  {
   "cell_type": "code",
   "execution_count": 17,
   "metadata": {},
   "outputs": [
    {
     "data": {
      "text/plain": [
       "True"
      ]
     },
     "execution_count": 17,
     "metadata": {},
     "output_type": "execute_result"
    }
   ],
   "source": [
    "o3d.io.write_point_cloud(\"./data/measure_whole_femur.ply\", scan_bone_pca_pcd)"
   ]
  },
  {
   "cell_type": "code",
   "execution_count": null,
   "metadata": {},
   "outputs": [],
   "source": []
  }
 ],
 "metadata": {
  "kernelspec": {
   "display_name": "open_3d",
   "language": "python",
   "name": "open_3d"
  },
  "language_info": {
   "codemirror_mode": {
    "name": "ipython",
    "version": 3
   },
   "file_extension": ".py",
   "mimetype": "text/x-python",
   "name": "python",
   "nbconvert_exporter": "python",
   "pygments_lexer": "ipython3",
   "version": "3.7.7"
  }
 },
 "nbformat": 4,
 "nbformat_minor": 4
}
