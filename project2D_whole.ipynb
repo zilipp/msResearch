{
 "cells": [
  {
   "cell_type": "markdown",
   "metadata": {},
   "source": [
    "# Import Lib"
   ]
  },
  {
   "cell_type": "code",
   "execution_count": 1,
   "metadata": {},
   "outputs": [],
   "source": [
    "import open3d as o3d\n",
    "import numpy as np\n",
    "\n",
    "import pandas\n",
    "from sklearn.decomposition import PCA\n",
    "\n",
    "import math\n",
    "import copy"
   ]
  },
  {
   "cell_type": "code",
   "execution_count": 2,
   "metadata": {},
   "outputs": [],
   "source": [
    "# add aixs\n",
    "aix_points = [[0, 0, 0],\n",
    "              [0, 0, 100],\n",
    "              [400, 0, 0],\n",
    "              [0, 100, 0],\n",
    "              [-400, 0, 0],]\n",
    "aix_lines = [[0, 1], # z-aix\n",
    "             [0, 2], # x-aix\n",
    "             [0, 3]] # y-aix\n",
    "\n",
    "colors = [[1,0,1], [0,0,0], [0,0,0]]\n",
    "aix_line_set = o3d.geometry.LineSet(points=o3d.utility.Vector3dVector(aix_points),\n",
    "                                    lines=o3d.utility.Vector2iVector(aix_lines))\n",
    "aix_line_set.colors = o3d.utility.Vector3dVector(colors)"
   ]
  },
  {
   "cell_type": "markdown",
   "metadata": {},
   "source": [
    "# Read scan model\n",
    "## import obj file"
   ]
  },
  {
   "cell_type": "code",
   "execution_count": 3,
   "metadata": {},
   "outputs": [
    {
     "name": "stdout",
     "output_type": "stream",
     "text": [
      "geometry::TriangleMesh with 35027 points and 68786 triangles.\n"
     ]
    }
   ],
   "source": [
    "scan_obj = o3d.io.read_triangle_mesh(\"./data/femur_half_4.obj\")\n",
    "print(scan_obj)\n",
    "o3d.visualization.draw_geometries([scan_obj], mesh_show_wireframe=True)"
   ]
  },
  {
   "cell_type": "markdown",
   "metadata": {},
   "source": [
    "## Scale unit length to 1mm (coordinate 1000x)"
   ]
  },
  {
   "cell_type": "code",
   "execution_count": 4,
   "metadata": {},
   "outputs": [
    {
     "name": "stdout",
     "output_type": "stream",
     "text": [
      "[ 0.24559977 -0.49631218 -0.23152044]\n"
     ]
    },
    {
     "data": {
      "text/plain": [
       "geometry::TriangleMesh with 35027 points and 68786 triangles."
      ]
     },
     "execution_count": 4,
     "metadata": {},
     "output_type": "execute_result"
    }
   ],
   "source": [
    "points_center = scan_obj.get_center()\n",
    "print(points_center)\n",
    "scan_obj.scale(1000.0, points_center)"
   ]
  },
  {
   "cell_type": "markdown",
   "metadata": {},
   "source": [
    "## change to point cloud"
   ]
  },
  {
   "cell_type": "code",
   "execution_count": 5,
   "metadata": {},
   "outputs": [],
   "source": [
    "number_of_points = np.asarray(scan_obj.vertices).shape[0]\n",
    "scan_obj.compute_vertex_normals()\n",
    "scan_pcd = scan_obj.sample_points_uniformly(number_of_points)"
   ]
  },
  {
   "cell_type": "code",
   "execution_count": 6,
   "metadata": {},
   "outputs": [
    {
     "data": {
      "text/plain": [
       "array([ 0.4843591 , -2.06221251, -4.96408358])"
      ]
     },
     "execution_count": 6,
     "metadata": {},
     "output_type": "execute_result"
    }
   ],
   "source": [
    "center = scan_pcd.get_center()\n",
    "center"
   ]
  },
  {
   "cell_type": "markdown",
   "metadata": {},
   "source": [
    "# --------------------------------------"
   ]
  },
  {
   "cell_type": "markdown",
   "metadata": {},
   "source": [
    "## delete plane\n",
    "### find plane using RANSAC: plane function: ax + by + cz + d = 0"
   ]
  },
  {
   "cell_type": "code",
   "execution_count": 31,
   "metadata": {},
   "outputs": [
    {
     "name": "stdout",
     "output_type": "stream",
     "text": [
      "Plane equation: 0.00295x + 0.99997y + -0.00717z + 6.81117 = 0\n"
     ]
    }
   ],
   "source": [
    "plane_model, inliers = scan_pcd.segment_plane(distance_threshold=2,\n",
    "                                              ransac_n=3,\n",
    "                                              num_iterations=1000)\n",
    "[a, b, c, d] = plane_model\n",
    "plane = plane_model\n",
    "print(f\"Plane equation: {a:.5f}x + {b:.5f}y + {c:.5f}z + {d:.5f} = 0\")\n",
    "\n",
    "# floor\n",
    "inlier_cloud = scan_pcd.select_by_index(inliers)\n",
    "inlier_cloud.paint_uniform_color([1.0, 0, 0])\n",
    "\n",
    "# bone \n",
    "bone_cloud = scan_pcd.select_by_index(inliers, invert=True)"
   ]
  },
  {
   "cell_type": "markdown",
   "metadata": {},
   "source": [
    "## Delete outliers"
   ]
  },
  {
   "cell_type": "code",
   "execution_count": 32,
   "metadata": {},
   "outputs": [],
   "source": [
    "def display_inlier_outlier(cloud, ind):\n",
    "    inlier_cloud = cloud.select_by_index(ind)\n",
    "    outlier_cloud = cloud.select_by_index(ind, invert=True)\n",
    "\n",
    "    print(\"Showing outliers (red) and inliers (gray): \")\n",
    "    outlier_cloud.paint_uniform_color([1, 0, 0])\n",
    "    inlier_cloud.paint_uniform_color([0.8, 0.8, 0.8])\n",
    "    o3d.visualization.draw_geometries([inlier_cloud, outlier_cloud])"
   ]
  },
  {
   "cell_type": "code",
   "execution_count": 33,
   "metadata": {},
   "outputs": [
    {
     "name": "stdout",
     "output_type": "stream",
     "text": [
      "Showing outliers (red) and inliers (gray): \n"
     ]
    }
   ],
   "source": [
    "cl, ind = bone_cloud.remove_statistical_outlier(nb_neighbors=10,\n",
    "                                                std_ratio=2.0)\n",
    "# display outliers\n",
    "display_inlier_outlier(bone_cloud, ind)"
   ]
  },
  {
   "cell_type": "code",
   "execution_count": 34,
   "metadata": {},
   "outputs": [],
   "source": [
    "bone_cloud = bone_cloud.select_by_index(ind)"
   ]
  },
  {
   "cell_type": "markdown",
   "metadata": {},
   "source": [
    "### project point to plane \n",
    "link:  \\\n",
    "https://math.stackexchange.com/questions/100761/how-do-i-find-the-projection-of-a-point-onto-a-plane\n"
   ]
  },
  {
   "cell_type": "code",
   "execution_count": 35,
   "metadata": {},
   "outputs": [],
   "source": [
    "def point_to_plane(point, plane):\n",
    "    A = plane[0]\n",
    "    B = plane[1]\n",
    "    C = plane[2]\n",
    "    D = plane[3]\n",
    "\n",
    "    xi = point[0]\n",
    "    yi = point[1]\n",
    "    zi = point[2]\n",
    "\n",
    "    t = (A*xi + B*yi + C*zi + D) / (A**2 + B**2 + C**2)\n",
    "    x = xi - A*t\n",
    "    y = yi - B*t\n",
    "    z = zi - C*t\n",
    "    \n",
    "    res = [x, y, z]\n",
    "    return res"
   ]
  },
  {
   "cell_type": "code",
   "execution_count": 36,
   "metadata": {},
   "outputs": [
    {
     "data": {
      "text/plain": [
       "array([[ 192.00781961,   27.11725688,  121.8752335 ],\n",
       "       [ 194.76741818,   26.61129308,  122.60028947],\n",
       "       [ 198.92217008,   27.38880825,  122.01176158],\n",
       "       ...,\n",
       "       [-158.98695728,    1.04439092,    9.68335274],\n",
       "       [-156.82001202,    0.77605994,    9.99689326],\n",
       "       [-158.83272677,    1.6296953 ,    7.47385414]])"
      ]
     },
     "execution_count": 36,
     "metadata": {},
     "output_type": "execute_result"
    }
   ],
   "source": [
    "bone_points = np.array(bone_cloud.points)\n",
    "bone_points"
   ]
  },
  {
   "cell_type": "code",
   "execution_count": 40,
   "metadata": {},
   "outputs": [
    {
     "data": {
      "text/plain": [
       "array([[ 191.90877717,   -6.50121047,  122.11626931],\n",
       "       [ 194.66985762,   -6.50417221,  122.83771889],\n",
       "       [ 198.82227055,   -6.5205843 ,  122.25488326],\n",
       "       ...,\n",
       "       [-159.0085152 ,   -6.27312185,    9.73581743],\n",
       "       [-156.84079166,   -6.2772737 ,   10.04746386],\n",
       "       [-158.85605695,   -6.28938162,    7.5306319 ]])"
      ]
     },
     "execution_count": 40,
     "metadata": {},
     "output_type": "execute_result"
    }
   ],
   "source": [
    "proj_bone_points = []\n",
    "for i in range(bone_points.shape[0]):\n",
    "    point = bone_points[i]\n",
    "    proj_bone_points.append(point_to_plane(point, plane))\n",
    "\n",
    "bone_points = np.array(proj_bone_points)\n",
    "bone_points"
   ]
  },
  {
   "cell_type": "code",
   "execution_count": 42,
   "metadata": {},
   "outputs": [],
   "source": [
    "bone_pcd = o3d.geometry.PointCloud()\n",
    "bone_pcd.points = o3d.utility.Vector3dVector(bone_points)\n",
    "\n",
    "o3d.visualization.draw_geometries([bone_pcd, aix_line_set])"
   ]
  },
  {
   "cell_type": "code",
   "execution_count": null,
   "metadata": {},
   "outputs": [],
   "source": [
    "bone_points = bone_points - bone_points.mean(axis=0, keepdims=True)"
   ]
  },
  {
   "cell_type": "markdown",
   "metadata": {},
   "source": [
    "## save file"
   ]
  },
  {
   "cell_type": "code",
   "execution_count": null,
   "metadata": {},
   "outputs": [],
   "source": []
  },
  {
   "cell_type": "code",
   "execution_count": null,
   "metadata": {},
   "outputs": [],
   "source": []
  }
 ],
 "metadata": {
  "kernelspec": {
   "display_name": "open_3d",
   "language": "python",
   "name": "open_3d"
  },
  "language_info": {
   "codemirror_mode": {
    "name": "ipython",
    "version": 3
   },
   "file_extension": ".py",
   "mimetype": "text/x-python",
   "name": "python",
   "nbconvert_exporter": "python",
   "pygments_lexer": "ipython3",
   "version": "3.7.7"
  }
 },
 "nbformat": 4,
 "nbformat_minor": 4
}
